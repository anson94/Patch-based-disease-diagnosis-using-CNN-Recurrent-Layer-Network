{
 "cells": [
  {
   "cell_type": "code",
   "execution_count": 1,
   "metadata": {
    "collapsed": false
   },
   "outputs": [
    {
     "name": "stdout",
     "output_type": "stream",
     "text": [
      "Populating the interactive namespace from numpy and matplotlib\n"
     ]
    },
    {
     "name": "stderr",
     "output_type": "stream",
     "text": [
      "/home/anson/anaconda2/lib/python2.7/site-packages/sklearn/cross_validation.py:41: DeprecationWarning: This module was deprecated in version 0.18 in favor of the model_selection module into which all the refactored classes and functions are moved. Also note that the interface of the new CV iterators are different from that of this module. This module will be removed in 0.20.\n",
      "  \"This module will be removed in 0.20.\", DeprecationWarning)\n"
     ]
    }
   ],
   "source": [
    "%pylab inline\n",
    "import warnings\n",
    "warnings.filterwarnings(\"ignore\")\n",
    "import nolearn\n",
    "from nolearn.lasagne import NeuralNet\n",
    "import readdata\n",
    "import lasagne\n",
    "from lasagne import layers\n",
    "from sklearn import metrics\n",
    "import detectobjects as det\n",
    "import os.path\n",
    "from scipy import misc\n",
    "import cv2\n",
    "from progress_bar import ProgressBar\n",
    "import shapefeatures\n",
    "from sklearn import ensemble"
   ]
  },
  {
   "cell_type": "code",
   "execution_count": 2,
   "metadata": {
    "collapsed": false
   },
   "outputs": [],
   "source": [
    "opts = {'img_dir': '/media/anson/Windows/ANSON_CEN16002_MAIN_PJT/data/images_pm/',\n",
    "        #'models_dir': '../models/',\n",
    "        'annotation_dir': '/media/anson/Windows/ANSON_CEN16002_MAIN_PJT/data/annotation_pm/',\n",
    "        'detection_probability_threshold': 0.5,\n",
    "        'detection_overlap_threshold': 0.3, \n",
    "        'gauss': 1,\n",
    "        'patch_size': (40,40),\n",
    "        'image_downsample' : 2,\n",
    "        'detection_step': 5,\n",
    "        'patch_creation_step': 40,\n",
    "        'object_class': None,\n",
    "        'negative_training_discard_rate': .9\n",
    "       }\n",
    "opts['patch_stride_training'] = int(opts['patch_size'][0]*.75)"
   ]
  },
  {
   "cell_type": "code",
   "execution_count": 3,
   "metadata": {
    "collapsed": false
   },
   "outputs": [
    {
     "name": "stdout",
     "output_type": "stream",
     "text": [
      "[****************100%******************]  591 of 591 complete                                                                                                                                                                                                                                                                                                                                                                                                                                                                                                                                                                                                                                                                                                                                                                                                                                                                                                                                                                                                                                                                                                                                                                                                                           \n",
      "\n",
      "29344 positive training examples, 31391 negative training examples\n",
      "28616 positive testing examples, 31523 negative testing examples\n",
      "120874 patches (48.0% positive)\n"
     ]
    }
   ],
   "source": [
    "trainfiles, valfiles, testfiles = readdata.create_sets(opts['img_dir'], train_set_proportion=.5, \n",
    "                                                  test_set_proportion=.5,\n",
    "                                                  val_set_proportion=0)\n",
    "\n",
    "train_y, train_X = readdata.create_patches(trainfiles, opts['annotation_dir'], opts['img_dir'], opts['patch_size'][0], opts['patch_stride_training'], grayscale=False, progressbar=True, downsample=opts['image_downsample'], objectclass=opts['object_class'], negative_discard_rate=opts['negative_training_discard_rate'])\n",
    "test_y, test_X = readdata.create_patches(testfiles,  opts['annotation_dir'], opts['img_dir'], opts['patch_size'][0], opts['patch_stride_training'], grayscale=False, progressbar=True, downsample=opts['image_downsample'], objectclass=opts['object_class'], negative_discard_rate=opts['negative_training_discard_rate'])\n",
    "\n",
    "# Cut down on disproportionately large numbers of negative patches\n",
    "train_X, train_y = readdata.balance(train_X, train_y, mult_neg=200)\n",
    "test_X, test_y = readdata.balance(test_X, test_y, mult_neg=100)\n",
    "\n",
    "# Create rotated and flipped versions of the positive patches\n",
    "train_X, train_y = readdata.augment_positives(train_X, train_y)\n",
    "test_X, test_y = readdata.augment_positives(test_X, test_y)\n",
    "\n",
    "print '\\n'\n",
    "print '%d positive training examples, %d negative training examples' % (sum(train_y), len(train_y)-sum(train_y))\n",
    "print '%d positive testing examples, %d negative testing examples' % (sum(test_y), len(test_y)-sum(test_y))\n",
    "print '%d patches (%.1f%% positive)' % (len(train_y)+len(test_y), 100.*((sum(train_y)+sum(test_y))/(len(train_y)+len(test_y))))"
   ]
  },
  {
   "cell_type": "markdown",
   "metadata": {},
   "source": [
    "View a random selection of positive and negative patches to see if they look right"
   ]
  },
  {
   "cell_type": "code",
   "execution_count": 4,
   "metadata": {
    "collapsed": false
   },
   "outputs": [
    {
     "data": {
      "text/plain": [
       "0.11255619965945397"
      ]
     },
     "execution_count": 4,
     "metadata": {},
     "output_type": "execute_result"
    }
   ],
   "source": [
    "29416./261345"
   ]
  },
  {
   "cell_type": "code",
   "execution_count": 4,
   "metadata": {
    "collapsed": false
   },
   "outputs": [
    {
     "data": {
      "image/png": "[encoded data removed]",
      "text/plain": [
       "<matplotlib.figure.Figure at 0x7fd523e0ce50>"
      ]
     },
     "metadata": {},
     "output_type": "display_data"
    }
   ],
   "source": [
    "N_samples_to_display = 10\n",
    "pos_indices = np.where(train_y)[0]\n",
    "pos_indices = pos_indices[np.random.permutation(len(pos_indices))]\n",
    "for i in range(N_samples_to_display):\n",
    "    plt.subplot(2,N_samples_to_display,i+1)\n",
    "    example_pos = train_X[pos_indices[i],:,:,:]\n",
    "    example_pos = np.swapaxes(example_pos,0,2)\n",
    "    plt.imshow(example_pos)\n",
    "    plt.tick_params(axis='both', which='both', bottom='off', top='off', labelbottom='off', right='off', left='off', labelleft='off')    \n",
    "\n",
    "neg_indices = np.where(train_y==0)[0]\n",
    "neg_indices = neg_indices[np.random.permutation(len(neg_indices))]\n",
    "for i in range(N_samples_to_display,2*N_samples_to_display):\n",
    "    plt.subplot(2,N_samples_to_display,i+1)\n",
    "    example_neg = train_X[neg_indices[i],:,:,:]\n",
    "    example_neg = np.swapaxes(example_neg,0,2)\n",
    "    plt.imshow(example_neg)\n",
    "    plt.tick_params(axis='both', which='both', bottom='off', top='off', labelbottom='off', right='off', left='off', labelleft='off')\n",
    "plt.gcf().set_size_inches(1.5*N_samples_to_display,3)\n",
    "#plt.savefig('GRU_PM_FIN/random_pos-neg_patches.png', bbox_inches='tight')"
   ]
  },
  {
   "cell_type": "markdown",
   "metadata": {},
   "source": [
    "### CNN training"
   ]
  },
  {
   "cell_type": "code",
   "execution_count": 5,
   "metadata": {
    "collapsed": false
   },
   "outputs": [
    {
     "name": "stdout",
     "output_type": "stream",
     "text": [
      "# Neural Network with 1258 learnable parameters\n",
      "\n",
      "## Layer information\n",
      "\n",
      "  #  name    size\n",
      "---  ------  -------\n",
      "  0  input   3x20x20\n",
      "  1  conv1   7x18x18\n",
      "  2  pool1   7x9x9\n",
      "  3  RNN     7x10\n",
      "  4  output  2\n",
      "\n",
      "  epoch    trn loss    val loss    trn/val    valid acc  dur\n",
      "-------  ----------  ----------  ---------  -----------  -----\n",
      "      1     \u001b[36m0.69610\u001b[0m     \u001b[32m0.69262\u001b[0m    1.00502      0.51877  4.99s\n",
      "      2     \u001b[36m0.69274\u001b[0m     0.69279    0.99993      0.51786  6.75s\n",
      "      3     \u001b[36m0.69273\u001b[0m     0.69266    1.00010      0.51778  5.34s\n",
      "      4     \u001b[36m0.69262\u001b[0m     \u001b[32m0.69257\u001b[0m    1.00007      0.51778  6.12s\n",
      "      5     \u001b[36m0.69253\u001b[0m     \u001b[32m0.69249\u001b[0m    1.00006      0.51819  6.02s\n",
      "      6     \u001b[36m0.69243\u001b[0m     \u001b[32m0.69238\u001b[0m    1.00008      0.51852  6.49s\n",
      "      7     \u001b[36m0.69229\u001b[0m     \u001b[32m0.69219\u001b[0m    1.00015      0.51967  5.48s\n",
      "      8     \u001b[36m0.69195\u001b[0m     \u001b[32m0.69162\u001b[0m    1.00048      0.52552  5.78s\n",
      "      9     \u001b[36m0.69007\u001b[0m     \u001b[32m0.68537\u001b[0m    1.00685      0.58133  5.79s\n",
      "     10     \u001b[36m0.59309\u001b[0m     \u001b[32m0.47636\u001b[0m    1.24506      0.88805  5.48s\n",
      "     11     \u001b[36m0.43801\u001b[0m     \u001b[32m0.39587\u001b[0m    1.10644      0.91925  6.13s\n",
      "     12     \u001b[36m0.24023\u001b[0m     \u001b[32m0.17391\u001b[0m    1.38137      0.94213  5.57s\n",
      "     13     \u001b[36m0.18247\u001b[0m     \u001b[32m0.16385\u001b[0m    1.11361      0.94797  5.97s\n",
      "     14     \u001b[36m0.17200\u001b[0m     \u001b[32m0.15987\u001b[0m    1.07585      0.94847  5.61s\n",
      "     15     \u001b[36m0.16503\u001b[0m     \u001b[32m0.15711\u001b[0m    1.05041      0.94905  5.57s\n",
      "     16     \u001b[36m0.15931\u001b[0m     \u001b[32m0.15485\u001b[0m    1.02877      0.94987  6.52s\n",
      "     17     \u001b[36m0.15391\u001b[0m     \u001b[32m0.15133\u001b[0m    1.01701      0.95061  8.41s\n",
      "     18     \u001b[36m0.14916\u001b[0m     \u001b[32m0.14879\u001b[0m    1.00251      0.95102  8.14s\n",
      "     19     \u001b[36m0.14467\u001b[0m     \u001b[32m0.14564\u001b[0m    0.99333      0.95086  8.08s\n",
      "     20     \u001b[36m0.14013\u001b[0m     \u001b[32m0.13749\u001b[0m    1.01924      0.95440  8.41s\n",
      "     21     \u001b[36m0.13540\u001b[0m     \u001b[32m0.13317\u001b[0m    1.01678      0.95497  8.11s\n",
      "     22     \u001b[36m0.13088\u001b[0m     \u001b[32m0.12894\u001b[0m    1.01507      0.95645  8.43s\n",
      "     23     \u001b[36m0.12639\u001b[0m     \u001b[32m0.12431\u001b[0m    1.01671      0.95744  8.50s\n",
      "     24     \u001b[36m0.12206\u001b[0m     \u001b[32m0.11876\u001b[0m    1.02780      0.95942  8.37s\n",
      "     25     \u001b[36m0.11756\u001b[0m     \u001b[32m0.11291\u001b[0m    1.04121      0.96156  8.85s\n",
      "     26     \u001b[36m0.11284\u001b[0m     \u001b[32m0.10823\u001b[0m    1.04262      0.96238  8.56s\n",
      "     27     \u001b[36m0.10928\u001b[0m     \u001b[32m0.10480\u001b[0m    1.04267      0.96411  8.49s\n",
      "     28     \u001b[36m0.10683\u001b[0m     \u001b[32m0.09910\u001b[0m    1.07797      0.96600  8.50s\n",
      "     29     \u001b[36m0.10500\u001b[0m     \u001b[32m0.09726\u001b[0m    1.07948      0.96740  8.40s\n",
      "     30     \u001b[36m0.10329\u001b[0m     \u001b[32m0.09566\u001b[0m    1.07975      0.96806  6.78s\n",
      "     31     \u001b[36m0.10073\u001b[0m     \u001b[32m0.09251\u001b[0m    1.08886      0.96888  5.65s\n",
      "     32     \u001b[36m0.09622\u001b[0m     \u001b[32m0.08952\u001b[0m    1.07478      0.97037  5.61s\n",
      "     33     \u001b[36m0.09287\u001b[0m     \u001b[32m0.08948\u001b[0m    1.03795      0.97028  5.77s\n",
      "     34     \u001b[36m0.08951\u001b[0m     \u001b[32m0.08705\u001b[0m    1.02831      0.97127  5.45s\n",
      "     35     \u001b[36m0.08595\u001b[0m     \u001b[32m0.08464\u001b[0m    1.01556      0.97168  5.97s\n",
      "     36     \u001b[36m0.08270\u001b[0m     \u001b[32m0.08208\u001b[0m    1.00759      0.97242  5.60s\n",
      "     37     \u001b[36m0.08067\u001b[0m     \u001b[32m0.07947\u001b[0m    1.01507      0.97382  5.61s\n",
      "     38     \u001b[36m0.07918\u001b[0m     \u001b[32m0.07728\u001b[0m    1.02448      0.97465  6.00s\n",
      "     39     \u001b[36m0.07762\u001b[0m     \u001b[32m0.07564\u001b[0m    1.02614      0.97506  5.87s\n",
      "     40     \u001b[36m0.07653\u001b[0m     \u001b[32m0.07417\u001b[0m    1.03180      0.97572  5.60s\n",
      "     41     \u001b[36m0.07534\u001b[0m     \u001b[32m0.07348\u001b[0m    1.02528      0.97596  5.58s\n",
      "     42     \u001b[36m0.07407\u001b[0m     \u001b[32m0.07235\u001b[0m    1.02373      0.97637  5.95s\n",
      "     43     \u001b[36m0.07255\u001b[0m     \u001b[32m0.07074\u001b[0m    1.02554      0.97728  5.89s\n",
      "     44     \u001b[36m0.06970\u001b[0m     \u001b[32m0.06844\u001b[0m    1.01844      0.97851  5.60s\n",
      "     45     \u001b[36m0.06789\u001b[0m     \u001b[32m0.06631\u001b[0m    1.02389      0.97909  5.62s\n",
      "     46     \u001b[36m0.06681\u001b[0m     \u001b[32m0.06519\u001b[0m    1.02490      0.97959  5.58s\n",
      "     47     \u001b[36m0.06583\u001b[0m     \u001b[32m0.06450\u001b[0m    1.02050      0.97967  5.62s\n",
      "     48     \u001b[36m0.06500\u001b[0m     \u001b[32m0.06388\u001b[0m    1.01758      0.98000  6.12s\n",
      "     49     \u001b[36m0.06428\u001b[0m     \u001b[32m0.06314\u001b[0m    1.01803      0.98049  6.05s\n",
      "     50     \u001b[36m0.06354\u001b[0m     \u001b[32m0.06263\u001b[0m    1.01447      0.98066  6.01s\n",
      "     51     \u001b[36m0.06303\u001b[0m     \u001b[32m0.06225\u001b[0m    1.01251      0.98082  5.74s\n",
      "     52     \u001b[36m0.06240\u001b[0m     \u001b[32m0.06189\u001b[0m    1.00821      0.98115  5.87s\n",
      "     53     \u001b[36m0.06177\u001b[0m     \u001b[32m0.06188\u001b[0m    0.99827      0.98107  6.05s\n",
      "     54     \u001b[36m0.06137\u001b[0m     \u001b[32m0.06166\u001b[0m    0.99522      0.98098  5.92s\n",
      "     55     \u001b[36m0.06085\u001b[0m     \u001b[32m0.06118\u001b[0m    0.99475      0.98131  5.99s\n",
      "     56     \u001b[36m0.06034\u001b[0m     0.06127    0.98475      0.98090  6.07s\n",
      "     57     \u001b[36m0.05948\u001b[0m     \u001b[32m0.06013\u001b[0m    0.98926      0.98173  5.73s\n",
      "     58     \u001b[36m0.05884\u001b[0m     \u001b[32m0.05942\u001b[0m    0.99020      0.98173  5.92s\n",
      "     59     \u001b[36m0.05825\u001b[0m     \u001b[32m0.05937\u001b[0m    0.98107      0.98214  5.89s\n",
      "     60     \u001b[36m0.05763\u001b[0m     \u001b[32m0.05877\u001b[0m    0.98054      0.98205  5.81s\n",
      "     61     \u001b[36m0.05713\u001b[0m     \u001b[32m0.05830\u001b[0m    0.98002      0.98247  5.68s\n",
      "     62     0.05715     0.05859    0.97545      0.98247  5.92s\n",
      "     63     \u001b[36m0.05642\u001b[0m     \u001b[32m0.05764\u001b[0m    0.97886      0.98263  5.89s\n",
      "     64     \u001b[36m0.05613\u001b[0m     \u001b[32m0.05756\u001b[0m    0.97507      0.98271  5.90s\n",
      "     65     \u001b[36m0.05590\u001b[0m     \u001b[32m0.05733\u001b[0m    0.97507      0.98296  5.64s\n",
      "     66     \u001b[36m0.05565\u001b[0m     \u001b[32m0.05710\u001b[0m    0.97450      0.98312  5.87s\n",
      "     67     \u001b[36m0.05531\u001b[0m     \u001b[32m0.05686\u001b[0m    0.97278      0.98321  5.88s\n",
      "     68     \u001b[36m0.05501\u001b[0m     \u001b[32m0.05666\u001b[0m    0.97078      0.98354  5.92s\n",
      "     69     \u001b[36m0.05479\u001b[0m     \u001b[32m0.05663\u001b[0m    0.96754      0.98370  5.93s\n",
      "     70     \u001b[36m0.05461\u001b[0m     \u001b[32m0.05644\u001b[0m    0.96748      0.98370  6.06s\n",
      "     71     \u001b[36m0.05440\u001b[0m     0.05646    0.96346      0.98370  5.61s\n",
      "     72     \u001b[36m0.05423\u001b[0m     \u001b[32m0.05602\u001b[0m    0.96801      0.98428  5.99s\n",
      "     73     \u001b[36m0.05412\u001b[0m     \u001b[32m0.05591\u001b[0m    0.96795      0.98428  6.53s\n",
      "     74     \u001b[36m0.05388\u001b[0m     \u001b[32m0.05573\u001b[0m    0.96684      0.98419  6.10s\n",
      "     75     \u001b[36m0.05365\u001b[0m     \u001b[32m0.05567\u001b[0m    0.96370      0.98436  6.07s\n",
      "     76     \u001b[36m0.05344\u001b[0m     0.05572    0.95903      0.98436  6.09s\n",
      "     77     \u001b[36m0.05325\u001b[0m     0.05567    0.95657      0.98428  6.28s\n",
      "     78     \u001b[36m0.05316\u001b[0m     0.05572    0.95407      0.98411  6.06s\n",
      "     79     \u001b[36m0.05292\u001b[0m     \u001b[32m0.05546\u001b[0m    0.95423      0.98428  5.95s\n",
      "     80     \u001b[36m0.05276\u001b[0m     \u001b[32m0.05537\u001b[0m    0.95294      0.98436  5.87s\n",
      "     81     \u001b[36m0.05256\u001b[0m     \u001b[32m0.05524\u001b[0m    0.95131      0.98461  5.90s\n",
      "     82     \u001b[36m0.05241\u001b[0m     \u001b[32m0.05513\u001b[0m    0.95073      0.98461  5.98s\n",
      "     83     \u001b[36m0.05226\u001b[0m     \u001b[32m0.05511\u001b[0m    0.94835      0.98469  5.96s\n",
      "     84     \u001b[36m0.05208\u001b[0m     \u001b[32m0.05498\u001b[0m    0.94725      0.98477  5.89s\n",
      "     85     \u001b[36m0.05194\u001b[0m     \u001b[32m0.05487\u001b[0m    0.94652      0.98485  5.97s\n",
      "     86     \u001b[36m0.05176\u001b[0m     \u001b[32m0.05458\u001b[0m    0.94832      0.98485  5.94s\n",
      "     87     \u001b[36m0.05163\u001b[0m     \u001b[32m0.05453\u001b[0m    0.94676      0.98469  5.94s\n",
      "     88     \u001b[36m0.05147\u001b[0m     \u001b[32m0.05426\u001b[0m    0.94853      0.98502  5.91s\n",
      "     89     \u001b[36m0.05139\u001b[0m     \u001b[32m0.05421\u001b[0m    0.94811      0.98502  5.91s\n",
      "     90     \u001b[36m0.05123\u001b[0m     \u001b[32m0.05407\u001b[0m    0.94740      0.98510  5.90s\n",
      "     91     \u001b[36m0.05120\u001b[0m     0.05414    0.94573      0.98535  5.86s\n",
      "     92     \u001b[36m0.05105\u001b[0m     0.05411    0.94339      0.98543  5.89s\n",
      "     93     \u001b[36m0.05092\u001b[0m     0.05417    0.94014      0.98535  5.92s\n",
      "     94     \u001b[36m0.05086\u001b[0m     \u001b[32m0.05398\u001b[0m    0.94214      0.98543  5.99s\n",
      "     95     \u001b[36m0.05072\u001b[0m     0.05405    0.93837      0.98559  5.92s\n",
      "     96     \u001b[36m0.05062\u001b[0m     \u001b[32m0.05386\u001b[0m    0.93988      0.98559  6.00s\n",
      "     97     \u001b[36m0.05046\u001b[0m     \u001b[32m0.05378\u001b[0m    0.93819      0.98592  6.67s\n",
      "     98     \u001b[36m0.05034\u001b[0m     \u001b[32m0.05372\u001b[0m    0.93719      0.98601  6.05s\n",
      "     99     \u001b[36m0.05025\u001b[0m     0.05373    0.93530      0.98576  6.01s\n",
      "    100     \u001b[36m0.05015\u001b[0m     \u001b[32m0.05359\u001b[0m    0.93566      0.98584  6.13s\n",
      "    101     \u001b[36m0.05008\u001b[0m     \u001b[32m0.05355\u001b[0m    0.93522      0.98592  5.94s\n",
      "    102     \u001b[36m0.04993\u001b[0m     \u001b[32m0.05346\u001b[0m    0.93400      0.98592  6.07s\n",
      "    103     \u001b[36m0.04985\u001b[0m     \u001b[32m0.05326\u001b[0m    0.93586      0.98601  5.92s\n",
      "    104     \u001b[36m0.04984\u001b[0m     \u001b[32m0.05326\u001b[0m    0.93570      0.98584  5.91s\n",
      "    105     \u001b[36m0.04973\u001b[0m     \u001b[32m0.05313\u001b[0m    0.93614      0.98592  5.95s\n",
      "    106     \u001b[36m0.04968\u001b[0m     \u001b[32m0.05312\u001b[0m    0.93512      0.98576  6.59s\n",
      "    107     \u001b[36m0.04958\u001b[0m     \u001b[32m0.05301\u001b[0m    0.93521      0.98584  6.84s\n",
      "    108     \u001b[36m0.04947\u001b[0m     \u001b[32m0.05290\u001b[0m    0.93505      0.98592  6.25s\n",
      "    109     \u001b[36m0.04946\u001b[0m     \u001b[32m0.05289\u001b[0m    0.93520      0.98592  6.00s\n",
      "    110     \u001b[36m0.04929\u001b[0m     \u001b[32m0.05283\u001b[0m    0.93317      0.98592  5.89s\n",
      "    111     \u001b[36m0.04922\u001b[0m     \u001b[32m0.05271\u001b[0m    0.93374      0.98617  6.50s\n",
      "    112     \u001b[36m0.04902\u001b[0m     \u001b[32m0.05256\u001b[0m    0.93258      0.98617  6.26s\n",
      "    113     0.04903     \u001b[32m0.05248\u001b[0m    0.93428      0.98609  5.89s\n",
      "    114     \u001b[36m0.04897\u001b[0m     \u001b[32m0.05245\u001b[0m    0.93380      0.98617  6.24s\n",
      "    115     \u001b[36m0.04881\u001b[0m     \u001b[32m0.05242\u001b[0m    0.93102      0.98609  6.86s\n",
      "    116     \u001b[36m0.04869\u001b[0m     \u001b[32m0.05224\u001b[0m    0.93196      0.98625  6.03s\n",
      "    117     \u001b[36m0.04860\u001b[0m     0.05225    0.93002      0.98625  5.95s\n",
      "    118     \u001b[36m0.04851\u001b[0m     \u001b[32m0.05216\u001b[0m    0.93011      0.98625  6.69s\n",
      "    119     \u001b[36m0.04848\u001b[0m     0.05244    0.92462      0.98617  6.03s\n",
      "    120     \u001b[36m0.04838\u001b[0m     0.05222    0.92643      0.98634  6.01s\n",
      "    121     \u001b[36m0.04830\u001b[0m     \u001b[32m0.05213\u001b[0m    0.92646      0.98650  5.95s\n",
      "    122     \u001b[36m0.04823\u001b[0m     \u001b[32m0.05210\u001b[0m    0.92575      0.98642  6.09s\n",
      "    123     \u001b[36m0.04806\u001b[0m     \u001b[32m0.05205\u001b[0m    0.92340      0.98650  5.69s\n",
      "    124     \u001b[36m0.04796\u001b[0m     \u001b[32m0.05193\u001b[0m    0.92348      0.98650  5.75s\n",
      "    125     \u001b[36m0.04780\u001b[0m     \u001b[32m0.05180\u001b[0m    0.92271      0.98650  5.81s\n",
      "    126     \u001b[36m0.04771\u001b[0m     0.05184    0.92040      0.98658  5.82s\n",
      "    127     \u001b[36m0.04760\u001b[0m     \u001b[32m0.05179\u001b[0m    0.91915      0.98650  5.88s\n",
      "    128     \u001b[36m0.04754\u001b[0m     \u001b[32m0.05175\u001b[0m    0.91854      0.98650  5.86s\n",
      "    129     \u001b[36m0.04745\u001b[0m     \u001b[32m0.05172\u001b[0m    0.91743      0.98634  5.61s\n",
      "    130     \u001b[36m0.04735\u001b[0m     \u001b[32m0.05168\u001b[0m    0.91622      0.98625  6.13s\n",
      "    131     \u001b[36m0.04725\u001b[0m     \u001b[32m0.05163\u001b[0m    0.91511      0.98617  6.09s\n",
      "    132     \u001b[36m0.04716\u001b[0m     0.05164    0.91321      0.98617  5.86s\n",
      "    133     \u001b[36m0.04708\u001b[0m     \u001b[32m0.05160\u001b[0m    0.91233      0.98617  5.91s\n",
      "    134     \u001b[36m0.04705\u001b[0m     \u001b[32m0.05150\u001b[0m    0.91367      0.98634  5.91s\n",
      "    135     \u001b[36m0.04693\u001b[0m     \u001b[32m0.05145\u001b[0m    0.91215      0.98625  6.03s\n",
      "    136     \u001b[36m0.04680\u001b[0m     \u001b[32m0.05135\u001b[0m    0.91146      0.98609  5.96s\n",
      "    137     \u001b[36m0.04677\u001b[0m     0.05141    0.90972      0.98617  5.85s\n",
      "    138     \u001b[36m0.04667\u001b[0m     \u001b[32m0.05131\u001b[0m    0.90965      0.98617  5.86s\n",
      "    139     \u001b[36m0.04658\u001b[0m     \u001b[32m0.05127\u001b[0m    0.90865      0.98625  5.89s\n",
      "    140     \u001b[36m0.04653\u001b[0m     \u001b[32m0.05118\u001b[0m    0.90897      0.98625  5.85s\n",
      "    141     \u001b[36m0.04650\u001b[0m     \u001b[32m0.05117\u001b[0m    0.90876      0.98634  6.05s\n",
      "    142     \u001b[36m0.04635\u001b[0m     \u001b[32m0.05111\u001b[0m    0.90692      0.98617  6.33s\n",
      "    143     \u001b[36m0.04624\u001b[0m     0.05136    0.90035      0.98601  5.77s\n",
      "    144     \u001b[36m0.04621\u001b[0m     0.05129    0.90102      0.98584  6.00s\n",
      "    145     \u001b[36m0.04617\u001b[0m     \u001b[32m0.05105\u001b[0m    0.90440      0.98617  5.90s\n",
      "    146     \u001b[36m0.04608\u001b[0m     0.05126    0.89909      0.98642  5.82s\n",
      "    147     \u001b[36m0.04602\u001b[0m     0.05116    0.89947      0.98650  5.82s\n",
      "    148     \u001b[36m0.04593\u001b[0m     \u001b[32m0.05089\u001b[0m    0.90250      0.98625  5.83s\n",
      "    149     \u001b[36m0.04589\u001b[0m     0.05113    0.89752      0.98666  5.89s\n",
      "    150     \u001b[36m0.04578\u001b[0m     \u001b[32m0.05083\u001b[0m    0.90061      0.98650  6.00s\n",
      "    151     \u001b[36m0.04572\u001b[0m     0.05105    0.89556      0.98666  5.79s\n",
      "    152     \u001b[36m0.04562\u001b[0m     \u001b[32m0.05074\u001b[0m    0.89906      0.98675  5.79s\n",
      "    153     \u001b[36m0.04555\u001b[0m     0.05082    0.89641      0.98650  6.01s\n",
      "    154     \u001b[36m0.04550\u001b[0m     0.05077    0.89629      0.98642  5.70s\n",
      "    155     \u001b[36m0.04537\u001b[0m     0.05112    0.88745      0.98675  5.95s\n",
      "    156     \u001b[36m0.04535\u001b[0m     \u001b[32m0.05059\u001b[0m    0.89643      0.98666  5.85s\n",
      "    157     \u001b[36m0.04523\u001b[0m     0.05065    0.89310      0.98666  5.86s\n",
      "    158     \u001b[36m0.04515\u001b[0m     0.05066    0.89111      0.98658  5.80s\n",
      "    159     \u001b[36m0.04509\u001b[0m     0.05059    0.89119      0.98675  5.88s\n",
      "    160     \u001b[36m0.04497\u001b[0m     \u001b[32m0.05048\u001b[0m    0.89084      0.98675  5.39s\n",
      "    161     \u001b[36m0.04493\u001b[0m     0.05049    0.88998      0.98658  5.97s\n",
      "    162     \u001b[36m0.04490\u001b[0m     \u001b[32m0.05013\u001b[0m    0.89553      0.98650  5.98s\n",
      "    163     \u001b[36m0.04483\u001b[0m     0.05051    0.88745      0.98666  5.89s\n",
      "    164     \u001b[36m0.04475\u001b[0m     0.05121    0.87380      0.98666  5.94s\n",
      "    165     \u001b[36m0.04472\u001b[0m     0.05039    0.88755      0.98642  6.37s\n",
      "    166     \u001b[36m0.04458\u001b[0m     0.05036    0.88531      0.98666  5.87s\n",
      "    167     \u001b[36m0.04455\u001b[0m     \u001b[32m0.05003\u001b[0m    0.89031      0.98642  6.16s\n",
      "    168     \u001b[36m0.04453\u001b[0m     0.05046    0.88252      0.98666  5.99s\n",
      "    169     \u001b[36m0.04443\u001b[0m     \u001b[32m0.04994\u001b[0m    0.88974      0.98650  6.17s\n",
      "    170     \u001b[36m0.04440\u001b[0m     \u001b[32m0.04992\u001b[0m    0.88936      0.98658  5.94s\n",
      "    171     \u001b[36m0.04434\u001b[0m     0.05001    0.88670      0.98658  6.27s\n",
      "    172     \u001b[36m0.04429\u001b[0m     \u001b[32m0.04981\u001b[0m    0.88913      0.98658  5.88s\n",
      "    173     \u001b[36m0.04424\u001b[0m     0.05035    0.87860      0.98683  5.87s\n",
      "    174     \u001b[36m0.04419\u001b[0m     0.05023    0.87983      0.98666  5.91s\n",
      "    175     \u001b[36m0.04413\u001b[0m     0.05018    0.87944      0.98675  6.31s\n",
      "    176     \u001b[36m0.04409\u001b[0m     0.05038    0.87523      0.98675  7.31s\n",
      "    177     \u001b[36m0.04399\u001b[0m     \u001b[32m0.04913\u001b[0m    0.89534      0.98609  6.02s\n",
      "    178     \u001b[36m0.04394\u001b[0m     0.04916    0.89396      0.98617  5.95s\n",
      "    179     \u001b[36m0.04383\u001b[0m     \u001b[32m0.04905\u001b[0m    0.89345      0.98617  6.18s\n",
      "    180     \u001b[36m0.04383\u001b[0m     \u001b[32m0.04904\u001b[0m    0.89361      0.98617  6.05s\n",
      "    181     \u001b[36m0.04374\u001b[0m     0.04912    0.89056      0.98609  5.95s\n",
      "    182     \u001b[36m0.04372\u001b[0m     0.05005    0.87343      0.98658  5.99s\n",
      "    183     \u001b[36m0.04367\u001b[0m     \u001b[32m0.04893\u001b[0m    0.89251      0.98609  5.93s\n",
      "    184     \u001b[36m0.04359\u001b[0m     0.04919    0.88630      0.98609  6.24s\n",
      "    185     \u001b[36m0.04356\u001b[0m     0.05006    0.87021      0.98675  5.93s\n",
      "    186     \u001b[36m0.04351\u001b[0m     0.04917    0.88498      0.98592  6.22s\n",
      "    187     \u001b[36m0.04348\u001b[0m     0.04909    0.88571      0.98601  6.41s\n",
      "    188     \u001b[36m0.04340\u001b[0m     0.04908    0.88432      0.98592  5.96s\n",
      "    189     \u001b[36m0.04336\u001b[0m     \u001b[32m0.04885\u001b[0m    0.88762      0.98625  6.11s\n",
      "    190     \u001b[36m0.04329\u001b[0m     \u001b[32m0.04881\u001b[0m    0.88698      0.98617  6.01s\n",
      "    191     \u001b[36m0.04324\u001b[0m     0.04882    0.88570      0.98592  6.18s\n",
      "    192     \u001b[36m0.04321\u001b[0m     \u001b[32m0.04876\u001b[0m    0.88630      0.98592  6.04s\n",
      "    193     \u001b[36m0.04315\u001b[0m     0.04911    0.87859      0.98625  6.05s\n",
      "    194     \u001b[36m0.04309\u001b[0m     0.04892    0.88088      0.98601  6.01s\n",
      "    195     \u001b[36m0.04309\u001b[0m     0.04912    0.87728      0.98642  6.00s\n",
      "    196     \u001b[36m0.04298\u001b[0m     0.04894    0.87833      0.98625  5.88s\n",
      "    197     \u001b[36m0.04296\u001b[0m     0.04889    0.87860      0.98625  6.22s\n",
      "    198     \u001b[36m0.04289\u001b[0m     \u001b[32m0.04867\u001b[0m    0.88130      0.98617  6.51s\n",
      "    199     \u001b[36m0.04283\u001b[0m     0.04882    0.87723      0.98642  6.04s\n",
      "    200     \u001b[36m0.04276\u001b[0m     \u001b[32m0.04843\u001b[0m    0.88297      0.98601  6.14s\n",
      "    201     \u001b[36m0.04269\u001b[0m     \u001b[32m0.04836\u001b[0m    0.88287      0.98609  5.91s\n",
      "    202     \u001b[36m0.04264\u001b[0m     \u001b[32m0.04833\u001b[0m    0.88223      0.98609  6.04s\n",
      "    203     \u001b[36m0.04261\u001b[0m     \u001b[32m0.04829\u001b[0m    0.88241      0.98601  6.19s\n",
      "    204     \u001b[36m0.04259\u001b[0m     \u001b[32m0.04826\u001b[0m    0.88250      0.98617  5.85s\n",
      "    205     \u001b[36m0.04250\u001b[0m     \u001b[32m0.04823\u001b[0m    0.88119      0.98609  6.04s\n",
      "    206     \u001b[36m0.04249\u001b[0m     \u001b[32m0.04820\u001b[0m    0.88153      0.98601  5.89s\n",
      "    207     \u001b[36m0.04245\u001b[0m     0.04826    0.87968      0.98592  6.32s\n",
      "    208     \u001b[36m0.04239\u001b[0m     \u001b[32m0.04819\u001b[0m    0.87980      0.98601  6.14s\n",
      "    209     \u001b[36m0.04234\u001b[0m     \u001b[32m0.04815\u001b[0m    0.87942      0.98609  6.07s\n",
      "    210     \u001b[36m0.04234\u001b[0m     0.04843    0.87424      0.98609  6.33s\n",
      "    211     \u001b[36m0.04227\u001b[0m     0.04839    0.87334      0.98609  6.19s\n",
      "    212     \u001b[36m0.04218\u001b[0m     \u001b[32m0.04803\u001b[0m    0.87817      0.98609  5.93s\n",
      "    213     \u001b[36m0.04213\u001b[0m     \u001b[32m0.04801\u001b[0m    0.87751      0.98609  6.01s\n",
      "    214     \u001b[36m0.04211\u001b[0m     0.04820    0.87360      0.98642  5.90s\n",
      "    215     \u001b[36m0.04205\u001b[0m     0.04816    0.87316      0.98642  6.08s\n",
      "    216     \u001b[36m0.04204\u001b[0m     \u001b[32m0.04798\u001b[0m    0.87616      0.98617  6.38s\n",
      "    217     \u001b[36m0.04194\u001b[0m     \u001b[32m0.04785\u001b[0m    0.87631      0.98617  6.95s\n",
      "    218     \u001b[36m0.04192\u001b[0m     0.04818    0.86997      0.98617  6.26s\n",
      "    219     \u001b[36m0.04184\u001b[0m     \u001b[32m0.04785\u001b[0m    0.87450      0.98634  6.60s\n",
      "    220     \u001b[36m0.04178\u001b[0m     \u001b[32m0.04777\u001b[0m    0.87456      0.98650  7.09s\n",
      "    221     \u001b[36m0.04175\u001b[0m     \u001b[32m0.04771\u001b[0m    0.87515      0.98634  6.42s\n",
      "    222     \u001b[36m0.04174\u001b[0m     \u001b[32m0.04769\u001b[0m    0.87524      0.98650  7.90s\n",
      "    223     \u001b[36m0.04169\u001b[0m     \u001b[32m0.04769\u001b[0m    0.87426      0.98650  10.49s\n",
      "    224     \u001b[36m0.04164\u001b[0m     \u001b[32m0.04768\u001b[0m    0.87338      0.98642  10.58s\n",
      "    225     \u001b[36m0.04159\u001b[0m     0.04768    0.87226      0.98666  10.12s\n",
      "    226     \u001b[36m0.04154\u001b[0m     \u001b[32m0.04767\u001b[0m    0.87134      0.98675  10.11s\n",
      "    227     \u001b[36m0.04150\u001b[0m     \u001b[32m0.04764\u001b[0m    0.87112      0.98683  10.09s\n",
      "    228     \u001b[36m0.04145\u001b[0m     \u001b[32m0.04758\u001b[0m    0.87130      0.98683  10.19s\n",
      "    229     \u001b[36m0.04141\u001b[0m     \u001b[32m0.04756\u001b[0m    0.87078      0.98675  10.23s\n",
      "    230     \u001b[36m0.04134\u001b[0m     \u001b[32m0.04753\u001b[0m    0.86990      0.98675  10.06s\n",
      "    231     \u001b[36m0.04131\u001b[0m     0.04758    0.86828      0.98691  10.34s\n",
      "    232     \u001b[36m0.04127\u001b[0m     0.04755    0.86807      0.98658  10.06s\n",
      "    233     \u001b[36m0.04123\u001b[0m     0.04756    0.86679      0.98650  10.00s\n",
      "    234     \u001b[36m0.04117\u001b[0m     \u001b[32m0.04749\u001b[0m    0.86675      0.98658  10.16s\n",
      "    235     \u001b[36m0.04112\u001b[0m     \u001b[32m0.04745\u001b[0m    0.86648      0.98675  9.99s\n",
      "    236     \u001b[36m0.04109\u001b[0m     \u001b[32m0.04741\u001b[0m    0.86668      0.98683  9.88s\n",
      "    237     \u001b[36m0.04102\u001b[0m     0.04754    0.86291      0.98691  9.93s\n",
      "    238     \u001b[36m0.04100\u001b[0m     \u001b[32m0.04740\u001b[0m    0.86486      0.98683  10.18s\n",
      "    239     \u001b[36m0.04096\u001b[0m     \u001b[32m0.04733\u001b[0m    0.86548      0.98691  10.49s\n",
      "    240     \u001b[36m0.04089\u001b[0m     0.04745    0.86180      0.98691  9.88s\n",
      "    241     \u001b[36m0.04086\u001b[0m     0.04744    0.86130      0.98683  9.93s\n",
      "    242     \u001b[36m0.04081\u001b[0m     0.04738    0.86120      0.98699  9.75s\n",
      "    243     \u001b[36m0.04076\u001b[0m     0.04735    0.86078      0.98691  10.10s\n",
      "    244     \u001b[36m0.04072\u001b[0m     0.04737    0.85954      0.98683  9.76s\n",
      "    245     \u001b[36m0.04067\u001b[0m     0.04734    0.85900      0.98683  10.21s\n",
      "    246     \u001b[36m0.04063\u001b[0m     \u001b[32m0.04720\u001b[0m    0.86085      0.98675  10.36s\n",
      "    247     \u001b[36m0.04057\u001b[0m     0.04725    0.85854      0.98675  9.98s\n",
      "    248     \u001b[36m0.04052\u001b[0m     \u001b[32m0.04718\u001b[0m    0.85871      0.98675  10.01s\n",
      "    249     \u001b[36m0.04049\u001b[0m     \u001b[32m0.04716\u001b[0m    0.85849      0.98666  9.82s\n",
      "    250     \u001b[36m0.04047\u001b[0m     \u001b[32m0.04708\u001b[0m    0.85964      0.98691  9.81s\n",
      "    251     \u001b[36m0.04041\u001b[0m     0.04717    0.85669      0.98675  9.76s\n",
      "    252     \u001b[36m0.04037\u001b[0m     0.04719    0.85548      0.98683  9.75s\n",
      "    253     \u001b[36m0.04034\u001b[0m     0.04717    0.85522      0.98683  10.27s\n",
      "    254     \u001b[36m0.04029\u001b[0m     0.04714    0.85452      0.98683  9.77s\n",
      "    255     \u001b[36m0.04022\u001b[0m     \u001b[32m0.04704\u001b[0m    0.85518      0.98666  10.27s\n",
      "    256     \u001b[36m0.04017\u001b[0m     0.04711    0.85276      0.98691  9.99s\n",
      "    257     \u001b[36m0.04015\u001b[0m     0.04729    0.84910      0.98666  10.03s\n",
      "    258     \u001b[36m0.04011\u001b[0m     0.04716    0.85060      0.98634  9.87s\n",
      "    259     \u001b[36m0.04008\u001b[0m     \u001b[32m0.04704\u001b[0m    0.85209      0.98666  9.84s\n",
      "    260     \u001b[36m0.04004\u001b[0m     0.04705    0.85103      0.98642  9.74s\n",
      "    261     \u001b[36m0.04001\u001b[0m     \u001b[32m0.04696\u001b[0m    0.85201      0.98666  9.97s\n",
      "    262     \u001b[36m0.03993\u001b[0m     0.04696    0.85031      0.98658  10.26s\n",
      "    263     0.03995     \u001b[32m0.04688\u001b[0m    0.85204      0.98658  10.08s\n",
      "    264     \u001b[36m0.03991\u001b[0m     \u001b[32m0.04688\u001b[0m    0.85141      0.98650  10.11s\n",
      "    265     \u001b[36m0.03984\u001b[0m     0.04690    0.84934      0.98642  9.80s\n",
      "    266     \u001b[36m0.03981\u001b[0m     0.04688    0.84920      0.98666  9.72s\n",
      "    267     \u001b[36m0.03978\u001b[0m     0.04688    0.84871      0.98658  9.86s\n",
      "    268     \u001b[36m0.03977\u001b[0m     0.04688    0.84838      0.98658  9.73s\n",
      "    269     \u001b[36m0.03972\u001b[0m     0.04703    0.84456      0.98658  10.77s\n",
      "    270     \u001b[36m0.03968\u001b[0m     \u001b[32m0.04687\u001b[0m    0.84653      0.98658  11.29s\n",
      "    271     \u001b[36m0.03962\u001b[0m     0.04697    0.84346      0.98666  10.09s\n",
      "    272     \u001b[36m0.03958\u001b[0m     0.04725    0.83774      0.98650  10.07s\n",
      "    273     \u001b[36m0.03955\u001b[0m     0.04726    0.83688      0.98642  10.02s\n",
      "    274     \u001b[36m0.03950\u001b[0m     \u001b[32m0.04687\u001b[0m    0.84291      0.98658  9.96s\n",
      "    275     \u001b[36m0.03943\u001b[0m     \u001b[32m0.04683\u001b[0m    0.84210      0.98650  9.88s\n",
      "    276     \u001b[36m0.03942\u001b[0m     0.04688    0.84102      0.98650  10.23s\n",
      "    277     \u001b[36m0.03938\u001b[0m     \u001b[32m0.04683\u001b[0m    0.84093      0.98650  9.90s\n",
      "    278     \u001b[36m0.03934\u001b[0m     0.04684    0.83988      0.98650  9.74s\n",
      "    279     \u001b[36m0.03930\u001b[0m     0.04689    0.83816      0.98658  10.07s\n",
      "    280     \u001b[36m0.03926\u001b[0m     \u001b[32m0.04681\u001b[0m    0.83875      0.98658  9.75s\n",
      "    281     \u001b[36m0.03922\u001b[0m     \u001b[32m0.04679\u001b[0m    0.83833      0.98642  10.67s\n",
      "    282     \u001b[36m0.03920\u001b[0m     0.04689    0.83606      0.98634  10.25s\n",
      "    283     \u001b[36m0.03917\u001b[0m     0.04686    0.83600      0.98642  11.57s\n",
      "    284     \u001b[36m0.03910\u001b[0m     0.04683    0.83502      0.98650  11.76s\n",
      "    285     \u001b[36m0.03907\u001b[0m     0.04742    0.82388      0.98642  9.83s\n",
      "    286     \u001b[36m0.03906\u001b[0m     0.04686    0.83347      0.98658  10.10s\n",
      "    287     \u001b[36m0.03898\u001b[0m     0.04711    0.82750      0.98658  10.02s\n",
      "    288     \u001b[36m0.03897\u001b[0m     0.04714    0.82668      0.98650  9.82s\n",
      "    289     \u001b[36m0.03891\u001b[0m     0.04708    0.82654      0.98675  10.32s\n",
      "    290     \u001b[36m0.03887\u001b[0m     0.04782    0.81287      0.98634  9.95s\n",
      "    291     \u001b[36m0.03885\u001b[0m     0.04783    0.81227      0.98625  9.94s\n",
      "    292     \u001b[36m0.03880\u001b[0m     0.04791    0.80994      0.98625  9.91s\n",
      "    293     \u001b[36m0.03879\u001b[0m     0.04721    0.82160      0.98675  10.03s\n",
      "    294     \u001b[36m0.03871\u001b[0m     0.04736    0.81733      0.98658  9.98s\n",
      "    295     \u001b[36m0.03871\u001b[0m     0.04754    0.81417      0.98658  9.92s\n",
      "    296     \u001b[36m0.03867\u001b[0m     0.04741    0.81552      0.98666  10.03s\n",
      "    297     \u001b[36m0.03862\u001b[0m     0.04735    0.81546      0.98658  9.89s\n",
      "    298     \u001b[36m0.03856\u001b[0m     0.04745    0.81271      0.98666  9.83s\n",
      "    299     0.03857     0.04720    0.81710      0.98675  9.87s\n",
      "    300     \u001b[36m0.03850\u001b[0m     0.04711    0.81723      0.98650  9.97s\n",
      "    301     \u001b[36m0.03846\u001b[0m     0.04721    0.81473      0.98650  10.66s\n",
      "    302     0.03846     0.04736    0.81215      0.98675  11.92s\n",
      "    303     \u001b[36m0.03842\u001b[0m     0.04749    0.80895      0.98634  10.05s\n",
      "    304     \u001b[36m0.03837\u001b[0m     0.04743    0.80902      0.98634  10.16s\n",
      "    305     \u001b[36m0.03834\u001b[0m     0.04741    0.80869      0.98650  9.92s\n",
      "    306     \u001b[36m0.03830\u001b[0m     0.04735    0.80880      0.98650  10.24s\n",
      "    307     \u001b[36m0.03829\u001b[0m     0.04778    0.80147      0.98650  9.94s\n",
      "    308     \u001b[36m0.03824\u001b[0m     0.04741    0.80657      0.98650  11.62s\n",
      "    309     \u001b[36m0.03821\u001b[0m     0.04737    0.80654      0.98658  11.05s\n",
      "    310     0.03821     0.04742    0.80565      0.98634  9.96s\n",
      "    311     \u001b[36m0.03818\u001b[0m     0.04739    0.80552      0.98642  9.54s\n",
      "    312     \u001b[36m0.03815\u001b[0m     0.04741    0.80485      0.98650  9.67s\n",
      "    313     \u001b[36m0.03811\u001b[0m     0.04713    0.80846      0.98617  9.74s\n",
      "    314     \u001b[36m0.03809\u001b[0m     0.04733    0.80465      0.98642  12.28s\n",
      "    315     \u001b[36m0.03806\u001b[0m     0.04727    0.80522      0.98634  10.79s\n",
      "    316     \u001b[36m0.03804\u001b[0m     0.04735    0.80336      0.98625  10.69s\n",
      "    317     \u001b[36m0.03801\u001b[0m     0.04729    0.80374      0.98634  9.78s\n",
      "    318     \u001b[36m0.03796\u001b[0m     0.04716    0.80484      0.98650  9.79s\n",
      "    319     \u001b[36m0.03795\u001b[0m     0.04717    0.80445      0.98642  9.78s\n",
      "    320     \u001b[36m0.03791\u001b[0m     0.04717    0.80369      0.98634  9.86s\n",
      "    321     \u001b[36m0.03787\u001b[0m     0.04735    0.79970      0.98634  9.87s\n",
      "    322     \u001b[36m0.03784\u001b[0m     0.04728    0.80020      0.98642  10.07s\n",
      "    323     0.03785     0.04715    0.80276      0.98642  9.53s\n",
      "    324     0.03784     0.04718    0.80208      0.98625  9.55s\n",
      "    325     \u001b[36m0.03777\u001b[0m     0.04735    0.79758      0.98658  10.09s\n",
      "    326     0.03777     0.04705    0.80288      0.98658  10.10s\n",
      "    327     \u001b[36m0.03774\u001b[0m     0.04724    0.79888      0.98658  10.02s\n",
      "    328     \u001b[36m0.03773\u001b[0m     0.04715    0.80017      0.98650  10.51s\n",
      "    329     \u001b[36m0.03770\u001b[0m     0.04708    0.80087      0.98642  9.61s\n",
      "    330     \u001b[36m0.03762\u001b[0m     0.04711    0.79858      0.98634  10.38s\n",
      "    331     \u001b[36m0.03760\u001b[0m     0.04710    0.79827      0.98642  9.90s\n",
      "    332     \u001b[36m0.03758\u001b[0m     0.04702    0.79911      0.98642  9.95s\n",
      "    333     \u001b[36m0.03754\u001b[0m     0.04717    0.79571      0.98658  10.28s\n",
      "    334     \u001b[36m0.03752\u001b[0m     0.04709    0.79667      0.98658  10.01s\n",
      "    335     \u001b[36m0.03745\u001b[0m     0.04701    0.79650      0.98625  10.14s\n",
      "    336     \u001b[36m0.03740\u001b[0m     0.04707    0.79449      0.98634  10.39s\n",
      "    337     \u001b[36m0.03738\u001b[0m     0.04718    0.79232      0.98625  10.35s\n",
      "    338     \u001b[36m0.03734\u001b[0m     0.04722    0.79073      0.98617  10.02s\n",
      "    339     0.03735     0.04702    0.79433      0.98642  10.24s\n",
      "    340     \u001b[36m0.03727\u001b[0m     0.04709    0.79143      0.98634  10.00s\n",
      "    341     \u001b[36m0.03726\u001b[0m     0.04724    0.78872      0.98617  9.89s\n",
      "    342     \u001b[36m0.03722\u001b[0m     0.04712    0.78973      0.98625  9.90s\n",
      "    343     0.03722     0.04722    0.78822      0.98634  10.19s\n",
      "    344     \u001b[36m0.03716\u001b[0m     0.04715    0.78803      0.98625  10.10s\n",
      "    345     \u001b[36m0.03714\u001b[0m     0.04726    0.78594      0.98634  9.80s\n",
      "    346     \u001b[36m0.03710\u001b[0m     0.04736    0.78327      0.98609  9.95s\n",
      "    347     \u001b[36m0.03706\u001b[0m     0.04736    0.78252      0.98601  9.94s\n",
      "    348     \u001b[36m0.03700\u001b[0m     0.04736    0.78124      0.98584  10.04s\n",
      "    349     \u001b[36m0.03700\u001b[0m     0.04723    0.78334      0.98617  10.66s\n",
      "    350     \u001b[36m0.03695\u001b[0m     0.04729    0.78142      0.98634  11.41s\n",
      "    351     \u001b[36m0.03690\u001b[0m     0.04744    0.77793      0.98601  11.70s\n",
      "    352     \u001b[36m0.03688\u001b[0m     0.04747    0.77685      0.98617  11.06s\n",
      "    353     \u001b[36m0.03683\u001b[0m     0.04752    0.77510      0.98625  11.84s\n",
      "    354     \u001b[36m0.03681\u001b[0m     0.04720    0.77986      0.98584  12.04s\n",
      "    355     \u001b[36m0.03677\u001b[0m     0.04720    0.77896      0.98584  11.70s\n",
      "    356     0.03678     0.04730    0.77761      0.98601  13.70s\n",
      "    357     \u001b[36m0.03675\u001b[0m     0.04739    0.77550      0.98592  11.07s\n",
      "    358     \u001b[36m0.03670\u001b[0m     0.04754    0.77198      0.98609  9.89s\n",
      "    359     \u001b[36m0.03668\u001b[0m     0.04750    0.77217      0.98609  12.53s\n",
      "    360     \u001b[36m0.03667\u001b[0m     0.04728    0.77564      0.98584  10.87s\n",
      "    361     \u001b[36m0.03662\u001b[0m     0.04748    0.77121      0.98592  11.05s\n",
      "    362     \u001b[36m0.03659\u001b[0m     0.04757    0.76917      0.98601  10.17s\n",
      "    363     \u001b[36m0.03656\u001b[0m     0.04746    0.77043      0.98592  9.82s\n",
      "    364     \u001b[36m0.03652\u001b[0m     0.04745    0.76962      0.98584  9.78s\n",
      "    365     \u001b[36m0.03648\u001b[0m     0.04742    0.76925      0.98601  9.74s\n",
      "    366     0.03650     0.04751    0.76828      0.98584  9.75s\n",
      "    367     \u001b[36m0.03644\u001b[0m     0.04754    0.76637      0.98568  9.72s\n",
      "    368     \u001b[36m0.03642\u001b[0m     0.04734    0.76932      0.98609  10.33s\n",
      "    369     \u001b[36m0.03636\u001b[0m     0.04750    0.76539      0.98576  9.91s\n",
      "    370     \u001b[36m0.03635\u001b[0m     0.04744    0.76628      0.98576  10.50s\n",
      "    371     \u001b[36m0.03632\u001b[0m     0.04749    0.76468      0.98592  11.03s\n",
      "    372     \u001b[36m0.03627\u001b[0m     0.04742    0.76477      0.98576  10.80s\n",
      "    373     \u001b[36m0.03623\u001b[0m     0.04731    0.76592      0.98592  7.22s\n",
      "    374     \u001b[36m0.03622\u001b[0m     0.04756    0.76143      0.98576  6.75s\n",
      "    375     0.03623     0.04758    0.76149      0.98601  6.72s\n",
      "    376     \u001b[36m0.03619\u001b[0m     0.04737    0.76391      0.98584  8.17s\n",
      "    377     \u001b[36m0.03616\u001b[0m     0.04759    0.75979      0.98592  6.10s\n",
      "    378     \u001b[36m0.03611\u001b[0m     0.04744    0.76131      0.98592  6.18s\n",
      "    379     \u001b[36m0.03610\u001b[0m     0.04780    0.75528      0.98601  6.33s\n",
      "    380     \u001b[36m0.03608\u001b[0m     0.04753    0.75908      0.98609  6.10s\n",
      "    381     \u001b[36m0.03604\u001b[0m     0.04785    0.75313      0.98601  5.91s\n",
      "    382     0.03604     0.04779    0.75417      0.98609  5.86s\n",
      "    383     \u001b[36m0.03602\u001b[0m     0.04764    0.75597      0.98601  5.81s\n",
      "    384     \u001b[36m0.03598\u001b[0m     0.04753    0.75686      0.98592  5.85s\n",
      "    385     \u001b[36m0.03596\u001b[0m     0.04796    0.74979      0.98609  5.92s\n",
      "    386     \u001b[36m0.03592\u001b[0m     0.04748    0.75649      0.98592  5.99s\n",
      "    387     \u001b[36m0.03589\u001b[0m     0.04764    0.75335      0.98601  5.96s\n",
      "    388     \u001b[36m0.03589\u001b[0m     0.04766    0.75306      0.98609  5.83s\n",
      "    389     \u001b[36m0.03584\u001b[0m     0.04763    0.75252      0.98584  6.33s\n",
      "    390     \u001b[36m0.03582\u001b[0m     0.04757    0.75298      0.98601  5.92s\n",
      "    391     \u001b[36m0.03577\u001b[0m     0.04760    0.75146      0.98592  5.85s\n",
      "    392     \u001b[36m0.03575\u001b[0m     0.04787    0.74684      0.98592  5.80s\n",
      "    393     0.03577     0.04773    0.74944      0.98584  5.86s\n",
      "    394     \u001b[36m0.03572\u001b[0m     0.04776    0.74787      0.98617  5.90s\n",
      "    395     \u001b[36m0.03571\u001b[0m     0.04792    0.74516      0.98609  5.83s\n",
      "    396     \u001b[36m0.03570\u001b[0m     0.04793    0.74482      0.98609  5.82s\n",
      "    397     \u001b[36m0.03565\u001b[0m     0.04792    0.74385      0.98609  5.90s\n",
      "    398     \u001b[36m0.03563\u001b[0m     0.04798    0.74273      0.98601  5.92s\n",
      "    399     \u001b[36m0.03562\u001b[0m     0.04783    0.74464      0.98601  5.77s\n",
      "    400     \u001b[36m0.03560\u001b[0m     0.04838    0.73580      0.98584  5.83s\n",
      "    401     \u001b[36m0.03557\u001b[0m     0.04804    0.74037      0.98601  5.86s\n",
      "    402     \u001b[36m0.03555\u001b[0m     0.04811    0.73896      0.98592  5.81s\n",
      "    403     \u001b[36m0.03552\u001b[0m     0.04832    0.73516      0.98584  5.85s\n",
      "    404     \u001b[36m0.03551\u001b[0m     0.04812    0.73800      0.98617  5.83s\n",
      "    405     \u001b[36m0.03548\u001b[0m     0.04818    0.73656      0.98609  5.85s\n",
      "    406     \u001b[36m0.03543\u001b[0m     0.04791    0.73944      0.98601  5.85s\n",
      "    407     \u001b[36m0.03542\u001b[0m     0.04814    0.73561      0.98609  5.91s\n",
      "    408     \u001b[36m0.03539\u001b[0m     0.04802    0.73706      0.98584  5.83s\n",
      "    409     \u001b[36m0.03538\u001b[0m     0.04822    0.73369      0.98609  6.27s\n",
      "    410     \u001b[36m0.03536\u001b[0m     0.04833    0.73155      0.98601  5.84s\n",
      "    411     0.03537     0.04806    0.73581      0.98601  5.82s\n",
      "    412     \u001b[36m0.03532\u001b[0m     0.04828    0.73156      0.98617  6.51s\n",
      "    413     \u001b[36m0.03531\u001b[0m     0.04855    0.72733      0.98584  5.82s\n",
      "    414     \u001b[36m0.03530\u001b[0m     0.04831    0.73071      0.98609  5.91s\n",
      "    415     \u001b[36m0.03526\u001b[0m     0.04857    0.72588      0.98601  5.85s\n",
      "    416     \u001b[36m0.03524\u001b[0m     0.04856    0.72563      0.98625  5.83s\n",
      "    417     \u001b[36m0.03523\u001b[0m     0.04840    0.72785      0.98617  5.83s\n",
      "    418     \u001b[36m0.03522\u001b[0m     0.04840    0.72766      0.98617  5.86s\n",
      "    419     \u001b[36m0.03519\u001b[0m     0.04814    0.73107      0.98609  5.94s\n",
      "    420     \u001b[36m0.03516\u001b[0m     0.04853    0.72441      0.98625  6.08s\n",
      "    421     \u001b[36m0.03514\u001b[0m     0.04813    0.73013      0.98625  8.13s\n",
      "    422     \u001b[36m0.03511\u001b[0m     0.04811    0.72987      0.98617  6.33s\n",
      "    423     \u001b[36m0.03511\u001b[0m     0.04846    0.72455      0.98617  5.84s\n",
      "    424     \u001b[36m0.03507\u001b[0m     0.04852    0.72281      0.98625  6.03s\n",
      "    425     0.03507     0.04825    0.72689      0.98601  6.04s\n",
      "    426     \u001b[36m0.03502\u001b[0m     0.04828    0.72545      0.98617  5.95s\n",
      "    427     \u001b[36m0.03499\u001b[0m     0.04845    0.72219      0.98625  5.83s\n",
      "    428     0.03501     0.04829    0.72505      0.98625  5.98s\n",
      "    429     \u001b[36m0.03496\u001b[0m     0.04846    0.72140      0.98609  5.90s\n",
      "    430     \u001b[36m0.03495\u001b[0m     0.04837    0.72261      0.98609  5.72s\n",
      "    431     \u001b[36m0.03492\u001b[0m     0.04845    0.72070      0.98625  6.01s\n",
      "    432     0.03492     0.04831    0.72291      0.98617  6.05s\n",
      "    433     \u001b[36m0.03487\u001b[0m     0.04834    0.72138      0.98617  6.73s\n",
      "    434     0.03487     0.04836    0.72102      0.98617  6.07s\n",
      "    435     \u001b[36m0.03484\u001b[0m     0.04829    0.72152      0.98617  5.91s\n",
      "    436     \u001b[36m0.03484\u001b[0m     0.04845    0.71906      0.98609  5.61s\n",
      "    437     \u001b[36m0.03480\u001b[0m     0.04837    0.71949      0.98617  5.76s\n",
      "    438     0.03481     0.04846    0.71822      0.98617  5.70s\n",
      "    439     \u001b[36m0.03478\u001b[0m     0.04845    0.71789      0.98617  5.82s\n",
      "    440     \u001b[36m0.03476\u001b[0m     0.04839    0.71840      0.98609  5.83s\n",
      "    441     \u001b[36m0.03473\u001b[0m     0.04848    0.71644      0.98617  5.59s\n",
      "    442     \u001b[36m0.03472\u001b[0m     0.04844    0.71677      0.98601  5.85s\n",
      "    443     \u001b[36m0.03471\u001b[0m     0.04845    0.71641      0.98601  5.81s\n",
      "    444     \u001b[36m0.03468\u001b[0m     0.04845    0.71584      0.98617  5.92s\n",
      "    445     \u001b[36m0.03466\u001b[0m     0.04853    0.71422      0.98609  5.67s\n",
      "    446     \u001b[36m0.03465\u001b[0m     0.04848    0.71478      0.98634  5.92s\n",
      "    447     \u001b[36m0.03462\u001b[0m     0.04850    0.71387      0.98601  5.68s\n",
      "    448     \u001b[36m0.03462\u001b[0m     0.04857    0.71269      0.98617  5.80s\n",
      "    449     \u001b[36m0.03461\u001b[0m     0.04861    0.71200      0.98609  5.85s\n",
      "    450     \u001b[36m0.03460\u001b[0m     0.04862    0.71178      0.98609  5.59s\n",
      "    451     \u001b[36m0.03457\u001b[0m     0.04859    0.71156      0.98634  5.83s\n",
      "    452     \u001b[36m0.03453\u001b[0m     0.04860    0.71057      0.98625  5.58s\n",
      "    453     0.03454     0.04861    0.71057      0.98617  5.83s\n",
      "    454     \u001b[36m0.03452\u001b[0m     0.04854    0.71109      0.98617  5.97s\n",
      "    455     \u001b[36m0.03448\u001b[0m     0.04863    0.70889      0.98625  6.00s\n",
      "    456     \u001b[36m0.03446\u001b[0m     0.04876    0.70678      0.98609  5.86s\n",
      "    457     0.03448     0.04855    0.71025      0.98617  5.52s\n",
      "    458     \u001b[36m0.03443\u001b[0m     0.04864    0.70770      0.98617  5.73s\n",
      "    459     0.03444     0.04867    0.70769      0.98625  5.71s\n",
      "    460     \u001b[36m0.03441\u001b[0m     0.04870    0.70650      0.98625  5.80s\n",
      "    461     \u001b[36m0.03437\u001b[0m     0.04862    0.70695      0.98625  5.56s\n",
      "    462     0.03438     0.04870    0.70597      0.98609  5.85s\n",
      "    463     \u001b[36m0.03436\u001b[0m     0.04865    0.70627      0.98617  5.85s\n",
      "    464     \u001b[36m0.03433\u001b[0m     0.04880    0.70349      0.98634  5.77s\n",
      "    465     \u001b[36m0.03432\u001b[0m     0.04871    0.70453      0.98625  5.65s\n",
      "    466     0.03432     0.04872    0.70447      0.98625  5.84s\n",
      "    467     \u001b[36m0.03431\u001b[0m     0.04883    0.70261      0.98642  5.98s\n",
      "    468     \u001b[36m0.03427\u001b[0m     0.04877    0.70267      0.98625  5.64s\n",
      "    469     \u001b[36m0.03426\u001b[0m     0.04882    0.70188      0.98625  5.77s\n",
      "    470     \u001b[36m0.03423\u001b[0m     0.04875    0.70207      0.98642  5.69s\n",
      "    471     \u001b[36m0.03422\u001b[0m     0.04877    0.70160      0.98642  5.61s\n",
      "    472     \u001b[36m0.03421\u001b[0m     0.04884    0.70034      0.98634  5.81s\n",
      "    473     \u001b[36m0.03420\u001b[0m     0.04882    0.70051      0.98634  5.81s\n",
      "    474     \u001b[36m0.03417\u001b[0m     0.04890    0.69871      0.98634  5.52s\n",
      "    475     \u001b[36m0.03416\u001b[0m     0.04876    0.70052      0.98658  6.00s\n",
      "    476     \u001b[36m0.03412\u001b[0m     0.04877    0.69957      0.98658  5.85s\n",
      "    477     \u001b[36m0.03410\u001b[0m     0.04909    0.69460      0.98609  5.81s\n",
      "    478     0.03411     0.04888    0.69777      0.98634  5.57s\n",
      "    479     \u001b[36m0.03410\u001b[0m     0.04902    0.69557      0.98634  7.88s\n",
      "    480     \u001b[36m0.03407\u001b[0m     0.04894    0.69622      0.98642  7.82s\n",
      "    481     \u001b[36m0.03406\u001b[0m     0.04906    0.69430      0.98601  5.57s\n",
      "    482     \u001b[36m0.03405\u001b[0m     0.04898    0.69516      0.98634  5.86s\n",
      "    483     \u001b[36m0.03404\u001b[0m     0.04881    0.69726      0.98634  5.84s\n",
      "    484     \u001b[36m0.03400\u001b[0m     0.04898    0.69431      0.98634  6.06s\n",
      "    485     \u001b[36m0.03398\u001b[0m     0.04907    0.69248      0.98617  6.07s\n",
      "    486     \u001b[36m0.03397\u001b[0m     0.04887    0.69502      0.98642  6.05s\n",
      "    487     \u001b[36m0.03396\u001b[0m     0.04886    0.69500      0.98625  6.09s\n",
      "    488     \u001b[36m0.03392\u001b[0m     0.04904    0.69175      0.98634  6.13s\n",
      "    489     0.03395     0.04887    0.69460      0.98634  6.18s\n",
      "    490     \u001b[36m0.03392\u001b[0m     0.04910    0.69088      0.98634  6.43s\n",
      "    491     \u001b[36m0.03388\u001b[0m     0.04881    0.69410      0.98625  6.39s\n",
      "    492     0.03390     0.04895    0.69249      0.98634  6.54s\n",
      "    493     0.03388     0.04885    0.69362      0.98634  6.66s\n",
      "    494     \u001b[36m0.03385\u001b[0m     0.04879    0.69381      0.98642  6.47s\n",
      "    495     \u001b[36m0.03384\u001b[0m     0.04886    0.69263      0.98625  6.71s\n",
      "    496     \u001b[36m0.03383\u001b[0m     0.04895    0.69105      0.98625  6.58s\n",
      "    497     \u001b[36m0.03382\u001b[0m     0.04889    0.69182      0.98642  6.44s\n",
      "    498     \u001b[36m0.03380\u001b[0m     0.04885    0.69182      0.98634  6.39s\n",
      "    499     \u001b[36m0.03377\u001b[0m     0.04896    0.68976      0.98625  6.64s\n",
      "    500     0.03378     0.04892    0.69057      0.98634  6.95s\n"
     ]
    }
   ],
   "source": [
    "def CNN(n_epochs):\n",
    "    net1 = NeuralNet(\n",
    "        layers=[\n",
    "        ('input', layers.InputLayer),\n",
    "        ('conv1', layers.Conv2DLayer),      #Convolutional layer.  Params defined below\n",
    "        ('pool1', layers.MaxPool2DLayer),   # Like downsampling, for execution speed\n",
    "        ('RNN',layers.RecurrentLayer),\n",
    "        ('output', layers.DenseLayer),\n",
    "        ],\n",
    "        \n",
    "    input_shape=(None, 3, opts['patch_size'][0]/opts['image_downsample'], \n",
    "                 opts['patch_size'][0]/opts['image_downsample']),\n",
    "    conv1_num_filters=7, \n",
    "    conv1_filter_size=(3, 3), \n",
    "    conv1_nonlinearity=lasagne.nonlinearities.rectify,\n",
    "        \n",
    "    pool1_pool_size=(2, 2),\n",
    "    RNN_num_units=10,\n",
    "        \n",
    "    #conv2_num_filters=12, \n",
    "    #conv2_filter_size=(2, 2),    \n",
    "    #conv2_nonlinearity=lasagne.nonlinearities.rectify,\n",
    "        \n",
    "    #hidden3_num_units=500,\n",
    "    output_num_units=2, \n",
    "    output_nonlinearity=lasagne.nonlinearities.softmax,\n",
    "\n",
    "    update_learning_rate=0.0001,\n",
    "    update_momentum=0.9,\n",
    "\n",
    "    max_epochs=n_epochs,\n",
    "    verbose=1,\n",
    "    )\n",
    "    return net1\n",
    "\n",
    "cnn = CNN(500).fit(train_X, train_y)"
   ]
  },
  {
   "cell_type": "code",
   "execution_count": 10,
   "metadata": {
    "collapsed": true
   },
   "outputs": [],
   "source": [
    "import cPickle as pickle\n",
    "sys.setrecursionlimit(10000) # you may need this if the network is large\n",
    "with open(\"model_file_MA_new\", 'wb') as f:\n",
    "     pickle.dump(cnn , f, -1)"
   ]
  },
  {
   "cell_type": "code",
   "execution_count": 11,
   "metadata": {
    "collapsed": true
   },
   "outputs": [],
   "source": [
    "#with open(\"model_file_IP\", 'wb') as f:\n",
    "with open('model_file_MA_new', 'rb') as pickle_file:\n",
    "    c=pickle.load(pickle_file)\n",
    "y_p=c.predict_proba(test_X)"
   ]
  },
  {
   "cell_type": "markdown",
   "metadata": {},
   "source": [
    "### Make predictions and evaluate on test data"
   ]
  },
  {
   "cell_type": "code",
   "execution_count": 12,
   "metadata": {
    "collapsed": false
   },
   "outputs": [
    {
     "data": {
      "text/plain": [
       "array([[  1.23843983e-06,   9.99998762e-01],\n",
       "       [  9.99329838e-01,   6.70161583e-04],\n",
       "       [  4.43817782e-03,   9.95561822e-01],\n",
       "       ..., \n",
       "       [  2.70351556e-05,   9.99972965e-01],\n",
       "       [  1.57430183e-01,   8.42569817e-01],\n",
       "       [  9.99730713e-01,   2.69286504e-04]])"
      ]
     },
     "execution_count": 12,
     "metadata": {},
     "output_type": "execute_result"
    }
   ],
   "source": [
    "y_p\n"
   ]
  },
  {
   "cell_type": "code",
   "execution_count": 13,
   "metadata": {
    "collapsed": true
   },
   "outputs": [],
   "source": [
    "y_pred = cnn.predict_proba(test_X)"
   ]
  },
  {
   "cell_type": "code",
   "execution_count": 14,
   "metadata": {
    "collapsed": false
   },
   "outputs": [
    {
     "data": {
      "text/plain": [
       "array([[  1.23843983e-06,   9.99998762e-01],\n",
       "       [  9.99329838e-01,   6.70161583e-04],\n",
       "       [  4.43817782e-03,   9.95561822e-01],\n",
       "       ..., \n",
       "       [  2.70351556e-05,   9.99972965e-01],\n",
       "       [  1.57430183e-01,   8.42569817e-01],\n",
       "       [  9.99730713e-01,   2.69286504e-04]])"
      ]
     },
     "execution_count": 14,
     "metadata": {},
     "output_type": "execute_result"
    }
   ],
   "source": [
    "y_pred"
   ]
  },
  {
   "cell_type": "code",
   "execution_count": 8,
   "metadata": {
    "collapsed": false
   },
   "outputs": [
    {
     "data": {
      "image/png": "[encoded data removed]",
      "text/plain": [
       "<matplotlib.figure.Figure at 0x7fd52412b0d0>"
      ]
     },
     "metadata": {},
     "output_type": "display_data"
    }
   ],
   "source": [
    "false_positive_rate, true_positive_rate, thresholds = metrics.roc_curve(test_y, y_pred[:,1])\n",
    "roc_auc = metrics.auc(false_positive_rate, true_positive_rate)\n",
    "\n",
    "precision, recall, thresholds = metrics.precision_recall_curve(test_y, y_pred[:,1])\n",
    "average_precision = metrics.average_precision_score(test_y, y_pred[:, 1])\n",
    "\n",
    "subplot(121)\n",
    "plt.title('ROC: AUC = %0.2f'% roc_auc)\n",
    "plt.plot(false_positive_rate, true_positive_rate, 'b')\n",
    "plt.legend(loc='lower right')\n",
    "plt.plot([0,1],[0,1],'r--')\n",
    "plt.ylim([-.05, 1.05])\n",
    "plt.xlim([-.05, 1.0])\n",
    "plt.ylabel('True Positive Rate')\n",
    "plt.xlabel('False Positive Rate')\n",
    "\n",
    "subplot(122)\n",
    "plt.plot(recall, precision)\n",
    "plt.xlabel('Recall')\n",
    "plt.ylabel('Precision')\n",
    "plt.ylim([0.0, 1.05])\n",
    "plt.xlim([0.0, 1.0])\n",
    "plt.title('Precision-Recall: AP={0:0.2f}'.format(average_precision))\n",
    "plt.legend(loc=\"lower left\")\n",
    "\n",
    "plt.gcf().set_size_inches(10,4)\n",
    "\n",
    "#plt.savefig('GRU_PM_FIN/plasmodium-patchevaluation.png', bbox_inches='tight')\n",
    "\n",
    "\n",
    "\n"
   ]
  },
  {
   "cell_type": "code",
   "execution_count": 9,
   "metadata": {
    "collapsed": false
   },
   "outputs": [
    {
     "data": {
      "text/plain": [
       "<matplotlib.legend.Legend at 0x7fd516367d50>"
      ]
     },
     "execution_count": 9,
     "metadata": {},
     "output_type": "execute_result"
    },
    {
     "data": {
      "image/png": "[encoded data removed]",
      "text/plain": [
       "<matplotlib.figure.Figure at 0x7fd516777290>"
      ]
     },
     "metadata": {},
     "output_type": "display_data"
    }
   ],
   "source": [
    "false_positive_rate, true_positive_rate, thresholds = metrics.roc_curve(test_y, y_pred[:,1])\n",
    "true_positive_rate.shape, thresholds.shape\n",
    "plt.plot(true_positive_rate, thresholds,label='True positive rate')\n",
    "plt.plot(false_positive_rate, thresholds, label='False positive rate')\n",
    "plt.xlabel('Threshold')\n",
    "plt.legend(loc='upper left')\n",
    "#plt.savefig('GRU_PM_FIN/TPR-FPR.png', bbox_inches='tight')"
   ]
  },
  {
   "cell_type": "code",
   "execution_count": null,
   "metadata": {
    "collapsed": false
   },
   "outputs": [],
   "source": []
  },
  {
   "cell_type": "code",
   "execution_count": 13,
   "metadata": {
    "collapsed": false
   },
   "outputs": [
    {
     "data": {
      "text/plain": [
       "array([1, 0, 1, ..., 0, 0, 0])"
      ]
     },
     "execution_count": 13,
     "metadata": {},
     "output_type": "execute_result"
    }
   ],
   "source": [
    "q=y_pred[:,1]>0.5\n",
    "q=q*1\n",
    "q"
   ]
  },
  {
   "cell_type": "code",
   "execution_count": 14,
   "metadata": {
    "collapsed": false
   },
   "outputs": [
    {
     "name": "stdout",
     "output_type": "stream",
     "text": [
      "             precision    recall  f1-score   support\n",
      "\n",
      "          0       0.99      0.99      0.99     31662\n",
      "          1       0.99      0.99      0.99     28616\n",
      "\n",
      "avg / total       0.99      0.99      0.99     60278\n",
      "\n",
      "The accuracy is: 0.988337370185\n"
     ]
    }
   ],
   "source": [
    "from sklearn.metrics import classification_report, accuracy_score\n",
    "print(classification_report(test_y, q))\n",
    "print 'The accuracy is:', accuracy_score(test_y, q)"
   ]
  },
  {
   "cell_type": "markdown",
   "metadata": {},
   "source": [
    "**Examine mistakes to understand network performance: false positives.** \n",
    "\n",
    "Find the negative-labelled patches with highest prediction score"
   ]
  },
  {
   "cell_type": "code",
   "execution_count": 11,
   "metadata": {
    "collapsed": false
   },
   "outputs": [
    {
     "data": {
      "image/png": "[encoded data removed]",
      "text/plain": [
       "<matplotlib.figure.Figure at 0x7f765dadd610>"
      ]
     },
     "metadata": {},
     "output_type": "display_data"
    }
   ],
   "source": [
    "neg_indices = np.where(test_y==0)[0]\n",
    "neg_scores = y_pred[neg_indices,1]\n",
    "neg_indices = neg_indices[neg_scores.argsort()]\n",
    "neg_indices = neg_indices[::-1]\n",
    "\n",
    "neg_scores = y_pred[neg_indices,1]\n",
    "\n",
    "N_samples_to_display = 12\n",
    "offset = 55\n",
    "for i in range(N_samples_to_display,2*N_samples_to_display):\n",
    "    plt.subplot(2,N_samples_to_display,i+1)\n",
    "    example_neg = test_X[neg_indices[i+offset],:,:,:]\n",
    "    example_neg = np.swapaxes(example_neg,0,2)\n",
    "    plt.imshow(example_neg)\n",
    "    plt.title('%.3f' % neg_scores[i+offset])\n",
    "    plt.tick_params(axis='both', which='both', bottom='off', top='off', labelbottom='off', right='off', left='off', labelleft='off')    \n",
    "\n",
    "plt.gcf().set_size_inches(1.5*N_samples_to_display,3) \n",
    "\n",
    "plt.savefig('GRU_PM_FIN/plasmodium-falsedetections_n.png', bbox_inches='tight')"
   ]
  },
  {
   "cell_type": "markdown",
   "metadata": {},
   "source": [
    "See highest-scored test patches"
   ]
  },
  {
   "cell_type": "code",
   "execution_count": 12,
   "metadata": {
    "collapsed": false
   },
   "outputs": [
    {
     "data": {
      "image/png": "[encoded data removed]",
      "text/plain": [
       "<matplotlib.figure.Figure at 0x7f76410a1610>"
      ]
     },
     "metadata": {},
     "output_type": "display_data"
    }
   ],
   "source": [
    "prob_range = [.95,1.]\n",
    "\n",
    "tmp_scores = y_pred.copy()[:,1]\n",
    "tmp_scores[tmp_scores<prob_range[0]] = -1\n",
    "tmp_scores[tmp_scores>prob_range[1]] = -1\n",
    "\n",
    "pos_indices = tmp_scores.argsort()\n",
    "pos_indices = pos_indices[::-1]\n",
    "\n",
    "N_samples_to_display = 12\n",
    "offset = 0\n",
    "for i in range(N_samples_to_display,2*N_samples_to_display):\n",
    "    plt.subplot(2,N_samples_to_display,i+1)\n",
    "    example_neg = test_X[pos_indices[i+offset],:,:,:]\n",
    "    example_neg = np.swapaxes(example_neg,0,2)\n",
    "    plt.imshow(example_neg)\n",
    "    plt.title('%.3f' % (tmp_scores[pos_indices[i+offset]]))\n",
    "    plt.tick_params(axis='both', which='both', bottom='off', top='off', labelbottom='off', right='off', left='off', labelleft='off')    \n",
    "\n",
    "plt.gcf().set_size_inches(1.5*N_samples_to_display,3) \n",
    "\n",
    "plt.savefig('GRU_PM_FIN/plasmodium-detectedpatches_n.png', bbox_inches='tight')"
   ]
  },
  {
   "cell_type": "markdown",
   "metadata": {},
   "source": [
    "See lowest scored test patches"
   ]
  },
  {
   "cell_type": "code",
   "execution_count": 13,
   "metadata": {
    "collapsed": false
   },
   "outputs": [
    {
     "data": {
      "image/png": "[encoded data removed]",
      "text/plain": [
       "<matplotlib.figure.Figure at 0x7f765c210a90>"
      ]
     },
     "metadata": {},
     "output_type": "display_data"
    }
   ],
   "source": [
    "pos_indices = y_pred[:,1].argsort()\n",
    "\n",
    "N_samples_to_display = 12\n",
    "\n",
    "for i in range(N_samples_to_display,2*N_samples_to_display):\n",
    "    plt.subplot(2,N_samples_to_display,i+1)\n",
    "    example_neg = test_X[pos_indices[i],:,:,:]\n",
    "    example_neg = np.swapaxes(example_neg,0,2)\n",
    "    plt.imshow(example_neg)\n",
    "    plt.title('%.3f' % (y_pred[pos_indices[i],1]))\n",
    "    plt.tick_params(axis='both', which='both', bottom='off', top='off', labelbottom='off', right='off', left='off', labelleft='off')    \n",
    "\n",
    "plt.gcf().set_size_inches(1.5*N_samples_to_display,3) \n",
    "\n",
    "plt.savefig('GRU_PM_FIN/plasmodium-testpatches-lowprob_n.png', bbox_inches='tight')"
   ]
  },
  {
   "cell_type": "markdown",
   "metadata": {
    "collapsed": false
   },
   "source": [
    "### Example of objects detected in an entire image\n",
    "\n",
    "The white boxes represent annotations in the training data. Red boxes are detections by the convnet."
   ]
  },
  {
   "cell_type": "code",
   "execution_count": null,
   "metadata": {
    "collapsed": false
   },
   "outputs": [
    {
     "name": "stderr",
     "output_type": "stream",
     "text": [
      "/home/anson/anaconda2/lib/python2.7/site-packages/skimage/filters/_gaussian.py:22: skimage_deprecation: Function ``gaussian_filter`` is deprecated. Use ``skimage.filters.gaussian`` instead.\n",
      "  multichannel=None, preserve_range=False, truncate=4.0):\n"
     ]
    }
   ],
   "source": [
    "### reload(det)\n",
    "\n",
    "fname = testfiles[350]\n",
    "imfile = opts['img_dir']+ fname\n",
    "opts['detection_probability_threshold'] = 0.9\n",
    "\n",
    "found = det.detect(imfile, cnn, opts)\n",
    "\n",
    "im = misc.imread(imfile)\n",
    "\n",
    "plt.box(False)\n",
    "plt.xticks([])\n",
    "plt.yticks([])\n",
    "\n",
    "annofile = opts['annotation_dir'] + fname[:-3] + 'xml'\n",
    "bboxes = readdata.get_bounding_boxes_for_single_image(annofile)\n",
    "for bb in bboxes:\n",
    "    bb = bb.astype(int)\n",
    "    cv2.rectangle(im, (bb[0],bb[2]), (bb[1],bb[3]), (255,255,255), 2)  \n",
    "\n",
    "for f in found:\n",
    "    f = f.astype(int)\n",
    "    cv2.rectangle(im, (f[0],f[1]), (f[2],f[3]), (255,0,0), 2)\n",
    "\n",
    "plt.gcf().set_size_inches(10,10)\n",
    "plt.title('Detected objects in %s' % (imfile))\n",
    "plt.imshow(im)\n",
    "plt.savefig('LSTM_PM_FIN/plasmodium-annotations350.png', bbox_inches='tight')\n",
    "#cv2.imwrite('detectionimages/detected-' + os.path.basename(imfile),im)"
   ]
  },
  {
   "cell_type": "code",
   "execution_count": null,
   "metadata": {
    "collapsed": true
   },
   "outputs": [],
   "source": [
    "### Evaluation: compare with classification based on morphological feature extraction"
   ]
  },
  {
   "cell_type": "code",
   "execution_count": 36,
   "metadata": {
    "collapsed": false
   },
   "outputs": [
    {
     "name": "stdout",
     "output_type": "stream",
     "text": [
      "\r",
      "[                  0%                  ]"
     ]
    },
    {
     "ename": "OSError",
     "evalue": "./libshapefeatures.so: cannot open shared object file: No such file or directory",
     "output_type": "error",
     "traceback": [
      "\u001b[0;31m---------------------------------------------------------------------------\u001b[0m",
      "\u001b[0;31mOSError\u001b[0m                                   Traceback (most recent call last)",
      "\u001b[0;32m<ipython-input-36-12d1489cc442>\u001b[0m in \u001b[0;36m<module>\u001b[0;34m()\u001b[0m\n\u001b[1;32m      8\u001b[0m         \u001b[0mpb\u001b[0m\u001b[0;34m.\u001b[0m\u001b[0mstep\u001b[0m\u001b[0;34m(\u001b[0m\u001b[0mi\u001b[0m\u001b[0;34m)\u001b[0m\u001b[0;34m\u001b[0m\u001b[0m\n\u001b[1;32m      9\u001b[0m     \u001b[0mgraypatch\u001b[0m \u001b[0;34m=\u001b[0m \u001b[0mcv2\u001b[0m\u001b[0;34m.\u001b[0m\u001b[0mcvtColor\u001b[0m\u001b[0;34m(\u001b[0m\u001b[0mnp\u001b[0m\u001b[0;34m.\u001b[0m\u001b[0mswapaxes\u001b[0m\u001b[0;34m(\u001b[0m\u001b[0mtrain_X\u001b[0m\u001b[0;34m[\u001b[0m\u001b[0mi\u001b[0m\u001b[0;34m,\u001b[0m\u001b[0;34m:\u001b[0m\u001b[0;34m,\u001b[0m\u001b[0;34m:\u001b[0m\u001b[0;34m,\u001b[0m\u001b[0;34m:\u001b[0m\u001b[0;34m]\u001b[0m\u001b[0;34m,\u001b[0m\u001b[0;36m0\u001b[0m\u001b[0;34m,\u001b[0m\u001b[0;36m2\u001b[0m\u001b[0;34m)\u001b[0m\u001b[0;34m.\u001b[0m\u001b[0mastype\u001b[0m\u001b[0;34m(\u001b[0m\u001b[0;34m'uint8'\u001b[0m\u001b[0;34m)\u001b[0m\u001b[0;34m,\u001b[0m \u001b[0mcv2\u001b[0m\u001b[0;34m.\u001b[0m\u001b[0mCOLOR_BGR2GRAY\u001b[0m\u001b[0;34m)\u001b[0m\u001b[0;34m\u001b[0m\u001b[0m\n\u001b[0;32m---> 10\u001b[0;31m     \u001b[0mtrain_X_f\u001b[0m\u001b[0;34m.\u001b[0m\u001b[0mappend\u001b[0m\u001b[0;34m(\u001b[0m\u001b[0mshapefeatures\u001b[0m\u001b[0;34m.\u001b[0m\u001b[0mextract\u001b[0m\u001b[0;34m(\u001b[0m\u001b[0mgraypatch\u001b[0m\u001b[0;34m,\u001b[0m\u001b[0mattributes\u001b[0m\u001b[0;34m=\u001b[0m\u001b[0mfeatureset\u001b[0m\u001b[0;34m,\u001b[0m\u001b[0mcentiles\u001b[0m\u001b[0;34m=\u001b[0m\u001b[0mcentiles\u001b[0m\u001b[0;34m,\u001b[0m \u001b[0mmomentfeatures\u001b[0m\u001b[0;34m=\u001b[0m\u001b[0mTrue\u001b[0m\u001b[0;34m)\u001b[0m\u001b[0;34m)\u001b[0m\u001b[0;34m\u001b[0m\u001b[0m\n\u001b[0m\u001b[1;32m     11\u001b[0m \u001b[0mtrain_X_f\u001b[0m \u001b[0;34m=\u001b[0m \u001b[0mnp\u001b[0m\u001b[0;34m.\u001b[0m\u001b[0mvstack\u001b[0m\u001b[0;34m(\u001b[0m\u001b[0mtrain_X_f\u001b[0m\u001b[0;34m)\u001b[0m\u001b[0;34m\u001b[0m\u001b[0m\n\u001b[1;32m     12\u001b[0m \u001b[0;34m\u001b[0m\u001b[0m\n",
      "\u001b[0;32m/media/anson/Windows/main pjt/microscopy-object-detection-master/shapefeatures.pyc\u001b[0m in \u001b[0;36mextract\u001b[0;34m(img, attributes, filters, centiles, momentfeatures)\u001b[0m\n\u001b[1;32m     51\u001b[0m     \u001b[0mdifferent\u001b[0m \u001b[0mlevels\u001b[0m\u001b[0;34m.\u001b[0m\u001b[0;34m\u001b[0m\u001b[0m\n\u001b[1;32m     52\u001b[0m     '''\n\u001b[0;32m---> 53\u001b[0;31m     \u001b[0mfeatures\u001b[0m \u001b[0;34m=\u001b[0m \u001b[0m_extract_hist\u001b[0m\u001b[0;34m(\u001b[0m\u001b[0mimg\u001b[0m\u001b[0;34m,\u001b[0m \u001b[0mattributes\u001b[0m\u001b[0;34m,\u001b[0m \u001b[0mfilters\u001b[0m\u001b[0;34m,\u001b[0m \u001b[0mcentiles\u001b[0m\u001b[0;34m)\u001b[0m\u001b[0;34m\u001b[0m\u001b[0m\n\u001b[0m\u001b[1;32m     54\u001b[0m     \u001b[0;32mif\u001b[0m \u001b[0mmomentfeatures\u001b[0m\u001b[0;34m:\u001b[0m\u001b[0;34m\u001b[0m\u001b[0m\n\u001b[1;32m     55\u001b[0m         \u001b[0mmomentfeatures\u001b[0m \u001b[0;34m=\u001b[0m \u001b[0m_extract_moment_features\u001b[0m\u001b[0;34m(\u001b[0m\u001b[0mimg\u001b[0m\u001b[0;34m)\u001b[0m\u001b[0;34m\u001b[0m\u001b[0m\n",
      "\u001b[0;32m/media/anson/Windows/main pjt/microscopy-object-detection-master/shapefeatures.pyc\u001b[0m in \u001b[0;36m_extract_hist\u001b[0;34m(img, attributes, filters, centiles)\u001b[0m\n\u001b[1;32m    185\u001b[0m     \u001b[0mnattributes\u001b[0m \u001b[0;34m=\u001b[0m \u001b[0mlen\u001b[0m\u001b[0;34m(\u001b[0m\u001b[0mattributes\u001b[0m\u001b[0;34m)\u001b[0m\u001b[0;34m\u001b[0m\u001b[0m\n\u001b[1;32m    186\u001b[0m     \u001b[0mncentiles\u001b[0m \u001b[0;34m=\u001b[0m \u001b[0mlen\u001b[0m\u001b[0;34m(\u001b[0m\u001b[0mcentiles\u001b[0m\u001b[0;34m)\u001b[0m\u001b[0;34m\u001b[0m\u001b[0m\n\u001b[0;32m--> 187\u001b[0;31m     \u001b[0mfeatures\u001b[0m \u001b[0;34m=\u001b[0m \u001b[0m_extract_morphological_features\u001b[0m\u001b[0;34m(\u001b[0m\u001b[0mimg\u001b[0m\u001b[0;34m,\u001b[0m \u001b[0mattributes\u001b[0m\u001b[0;34m,\u001b[0m \u001b[0mfilters\u001b[0m\u001b[0;34m)\u001b[0m\u001b[0;34m\u001b[0m\u001b[0m\n\u001b[0m\u001b[1;32m    188\u001b[0m     \u001b[0mhistfeatures\u001b[0m \u001b[0;34m=\u001b[0m \u001b[0mnp\u001b[0m\u001b[0;34m.\u001b[0m\u001b[0mzeros\u001b[0m\u001b[0;34m(\u001b[0m\u001b[0;34m(\u001b[0m\u001b[0mnattributes\u001b[0m\u001b[0;34m,\u001b[0m \u001b[0mncentiles\u001b[0m\u001b[0;34m)\u001b[0m\u001b[0;34m)\u001b[0m\u001b[0;34m\u001b[0m\u001b[0m\n\u001b[1;32m    189\u001b[0m     \u001b[0;32mfor\u001b[0m \u001b[0ma\u001b[0m \u001b[0;32min\u001b[0m \u001b[0mrange\u001b[0m\u001b[0;34m(\u001b[0m\u001b[0mnattributes\u001b[0m\u001b[0;34m)\u001b[0m\u001b[0;34m:\u001b[0m\u001b[0;34m\u001b[0m\u001b[0m\n",
      "\u001b[0;32m/media/anson/Windows/main pjt/microscopy-object-detection-master/shapefeatures.pyc\u001b[0m in \u001b[0;36m_extract_morphological_features\u001b[0;34m(img, attributes, filters, centiles)\u001b[0m\n\u001b[1;32m    215\u001b[0m         \u001b[0mallfeatures\u001b[0m \u001b[0;34m=\u001b[0m \u001b[0;34m[\u001b[0m\u001b[0;34m]\u001b[0m\u001b[0;34m\u001b[0m\u001b[0m\n\u001b[1;32m    216\u001b[0m         \u001b[0;32mfor\u001b[0m \u001b[0mattr\u001b[0m \u001b[0;32min\u001b[0m \u001b[0mattributes\u001b[0m\u001b[0;34m:\u001b[0m\u001b[0;34m\u001b[0m\u001b[0m\n\u001b[0;32m--> 217\u001b[0;31m             \u001b[0mf\u001b[0m \u001b[0;34m=\u001b[0m \u001b[0m_singleattribute\u001b[0m\u001b[0;34m(\u001b[0m\u001b[0mimg2\u001b[0m\u001b[0;34m,\u001b[0m \u001b[0mattr\u001b[0m\u001b[0;34m)\u001b[0m\u001b[0;34m\u001b[0m\u001b[0m\n\u001b[0m\u001b[1;32m    218\u001b[0m             \u001b[0mallfeatures\u001b[0m\u001b[0;34m.\u001b[0m\u001b[0mappend\u001b[0m\u001b[0;34m(\u001b[0m\u001b[0mf\u001b[0m\u001b[0;34m)\u001b[0m\u001b[0;34m\u001b[0m\u001b[0m\n\u001b[1;32m    219\u001b[0m         \u001b[0mfeatures\u001b[0m \u001b[0;34m=\u001b[0m \u001b[0mnp\u001b[0m\u001b[0;34m.\u001b[0m\u001b[0mvstack\u001b[0m\u001b[0;34m(\u001b[0m\u001b[0mallfeatures\u001b[0m\u001b[0;34m)\u001b[0m\u001b[0;34m.\u001b[0m\u001b[0mtranspose\u001b[0m\u001b[0;34m(\u001b[0m\u001b[0;34m)\u001b[0m\u001b[0;34m\u001b[0m\u001b[0m\n",
      "\u001b[0;32m/media/anson/Windows/main pjt/microscopy-object-detection-master/shapefeatures.pyc\u001b[0m in \u001b[0;36m_singleattribute\u001b[0;34m(img, attribute)\u001b[0m\n\u001b[1;32m    237\u001b[0m \u001b[0;34m\u001b[0m\u001b[0m\n\u001b[1;32m    238\u001b[0m \u001b[0;32mdef\u001b[0m \u001b[0m_singleattribute\u001b[0m\u001b[0;34m(\u001b[0m\u001b[0mimg\u001b[0m\u001b[0;34m,\u001b[0m \u001b[0mattribute\u001b[0m\u001b[0;34m)\u001b[0m\u001b[0;34m:\u001b[0m\u001b[0;34m\u001b[0m\u001b[0m\n\u001b[0;32m--> 239\u001b[0;31m     \u001b[0mextractFeatures\u001b[0m \u001b[0;34m=\u001b[0m \u001b[0mctypes\u001b[0m\u001b[0;34m.\u001b[0m\u001b[0mcdll\u001b[0m\u001b[0;34m.\u001b[0m\u001b[0mLoadLibrary\u001b[0m\u001b[0;34m(\u001b[0m\u001b[0;34m'./libshapefeatures.so'\u001b[0m\u001b[0;34m)\u001b[0m\u001b[0;34m\u001b[0m\u001b[0m\n\u001b[0m\u001b[1;32m    240\u001b[0m     \u001b[0mextractFeatures\u001b[0m\u001b[0;34m.\u001b[0m\u001b[0mMaxTreeAttributes\u001b[0m\u001b[0;34m.\u001b[0m\u001b[0mrestype\u001b[0m \u001b[0;34m=\u001b[0m \u001b[0mctypes\u001b[0m\u001b[0;34m.\u001b[0m\u001b[0mPOINTER\u001b[0m\u001b[0;34m(\u001b[0m\u001b[0mctypes\u001b[0m\u001b[0;34m.\u001b[0m\u001b[0mc_float\u001b[0m\u001b[0;34m)\u001b[0m\u001b[0;34m\u001b[0m\u001b[0m\n\u001b[1;32m    241\u001b[0m     extractFeatures.MaxTreeAttributes.argtype = [ctypes.c_int,\n",
      "\u001b[0;32m/home/anson/anaconda2/lib/python2.7/ctypes/__init__.pyc\u001b[0m in \u001b[0;36mLoadLibrary\u001b[0;34m(self, name)\u001b[0m\n\u001b[1;32m    438\u001b[0m \u001b[0;34m\u001b[0m\u001b[0m\n\u001b[1;32m    439\u001b[0m     \u001b[0;32mdef\u001b[0m \u001b[0mLoadLibrary\u001b[0m\u001b[0;34m(\u001b[0m\u001b[0mself\u001b[0m\u001b[0;34m,\u001b[0m \u001b[0mname\u001b[0m\u001b[0;34m)\u001b[0m\u001b[0;34m:\u001b[0m\u001b[0;34m\u001b[0m\u001b[0m\n\u001b[0;32m--> 440\u001b[0;31m         \u001b[0;32mreturn\u001b[0m \u001b[0mself\u001b[0m\u001b[0;34m.\u001b[0m\u001b[0m_dlltype\u001b[0m\u001b[0;34m(\u001b[0m\u001b[0mname\u001b[0m\u001b[0;34m)\u001b[0m\u001b[0;34m\u001b[0m\u001b[0m\n\u001b[0m\u001b[1;32m    441\u001b[0m \u001b[0;34m\u001b[0m\u001b[0m\n\u001b[1;32m    442\u001b[0m \u001b[0mcdll\u001b[0m \u001b[0;34m=\u001b[0m \u001b[0mLibraryLoader\u001b[0m\u001b[0;34m(\u001b[0m\u001b[0mCDLL\u001b[0m\u001b[0;34m)\u001b[0m\u001b[0;34m\u001b[0m\u001b[0m\n",
      "\u001b[0;32m/home/anson/anaconda2/lib/python2.7/ctypes/__init__.pyc\u001b[0m in \u001b[0;36m__init__\u001b[0;34m(self, name, mode, handle, use_errno, use_last_error)\u001b[0m\n\u001b[1;32m    360\u001b[0m \u001b[0;34m\u001b[0m\u001b[0m\n\u001b[1;32m    361\u001b[0m         \u001b[0;32mif\u001b[0m \u001b[0mhandle\u001b[0m \u001b[0;32mis\u001b[0m \u001b[0mNone\u001b[0m\u001b[0;34m:\u001b[0m\u001b[0;34m\u001b[0m\u001b[0m\n\u001b[0;32m--> 362\u001b[0;31m             \u001b[0mself\u001b[0m\u001b[0;34m.\u001b[0m\u001b[0m_handle\u001b[0m \u001b[0;34m=\u001b[0m \u001b[0m_dlopen\u001b[0m\u001b[0;34m(\u001b[0m\u001b[0mself\u001b[0m\u001b[0;34m.\u001b[0m\u001b[0m_name\u001b[0m\u001b[0;34m,\u001b[0m \u001b[0mmode\u001b[0m\u001b[0;34m)\u001b[0m\u001b[0;34m\u001b[0m\u001b[0m\n\u001b[0m\u001b[1;32m    363\u001b[0m         \u001b[0;32melse\u001b[0m\u001b[0;34m:\u001b[0m\u001b[0;34m\u001b[0m\u001b[0m\n\u001b[1;32m    364\u001b[0m             \u001b[0mself\u001b[0m\u001b[0;34m.\u001b[0m\u001b[0m_handle\u001b[0m \u001b[0;34m=\u001b[0m \u001b[0mhandle\u001b[0m\u001b[0;34m\u001b[0m\u001b[0m\n",
      "\u001b[0;31mOSError\u001b[0m: ./libshapefeatures.so: cannot open shared object file: No such file or directory"
     ]
    }
   ],
   "source": [
    "featureset = [3,7,11,12,15,17]\n",
    "centiles = [0,25,50,75,100]\n",
    "\n",
    "pb = ProgressBar(train_X.shape[0])\n",
    "train_X_f = []\n",
    "for i in range(train_X.shape[0]):\n",
    "    if i % 100 == 0:\n",
    "        pb.step(i)\n",
    "    graypatch = cv2.cvtColor(np.swapaxes(train_X[i,:,:,:],0,2).astype('uint8'), cv2.COLOR_BGR2GRAY)\n",
    "    train_X_f.append(shapefeatures.extract(graypatch,attributes=featureset,centiles=centiles, momentfeatures=True))\n",
    "train_X_f = np.vstack(train_X_f)\n",
    "\n",
    "test_X_f = []\n",
    "for i in range(test_X.shape[0]):\n",
    "    if i % 100 == 0:\n",
    "        pb.step(i)\n",
    "    graypatch = cv2.cvtColor(np.swapaxes(test_X[i,:,:,:],0,2).astype('uint8'), cv2.COLOR_BGR2GRAY)\n",
    "    test_X_f.append(shapefeatures.extract(graypatch,attributes=featureset,centiles=centiles, momentfeatures=True))\n",
    "test_X_f = np.vstack(test_X_f)"
   ]
  },
  {
   "cell_type": "code",
   "execution_count": 37,
   "metadata": {
    "collapsed": false
   },
   "outputs": [
    {
     "ename": "ValueError",
     "evalue": "Expected 2D array, got 1D array instead:\narray=[].\nReshape your data either using array.reshape(-1, 1) if your data has a single feature or array.reshape(1, -1) if it contains a single sample.",
     "output_type": "error",
     "traceback": [
      "\u001b[0;31m---------------------------------------------------------------------------\u001b[0m",
      "\u001b[0;31mValueError\u001b[0m                                Traceback (most recent call last)",
      "\u001b[0;32m<ipython-input-37-659591b35db7>\u001b[0m in \u001b[0;36m<module>\u001b[0;34m()\u001b[0m\n\u001b[1;32m      1\u001b[0m \u001b[0mclf\u001b[0m \u001b[0;34m=\u001b[0m \u001b[0mensemble\u001b[0m\u001b[0;34m.\u001b[0m\u001b[0mExtraTreesClassifier\u001b[0m\u001b[0;34m(\u001b[0m\u001b[0mn_estimators\u001b[0m\u001b[0;34m=\u001b[0m\u001b[0;36m100\u001b[0m\u001b[0;34m,\u001b[0m \u001b[0mmax_depth\u001b[0m\u001b[0;34m=\u001b[0m\u001b[0;36m5\u001b[0m\u001b[0;34m,\u001b[0m \u001b[0mn_jobs\u001b[0m\u001b[0;34m=\u001b[0m\u001b[0;34m-\u001b[0m\u001b[0;36m1\u001b[0m\u001b[0;34m)\u001b[0m\u001b[0;34m\u001b[0m\u001b[0m\n\u001b[0;32m----> 2\u001b[0;31m \u001b[0mclf\u001b[0m\u001b[0;34m.\u001b[0m\u001b[0mfit\u001b[0m\u001b[0;34m(\u001b[0m\u001b[0mtrain_X_f\u001b[0m\u001b[0;34m,\u001b[0m \u001b[0mtrain_y\u001b[0m\u001b[0;34m)\u001b[0m\u001b[0;34m\u001b[0m\u001b[0m\n\u001b[0m\u001b[1;32m      3\u001b[0m \u001b[0my_pred_CLF\u001b[0m \u001b[0;34m=\u001b[0m \u001b[0mclf\u001b[0m\u001b[0;34m.\u001b[0m\u001b[0mpredict_proba\u001b[0m\u001b[0;34m(\u001b[0m\u001b[0mtest_X_f\u001b[0m\u001b[0;34m)\u001b[0m\u001b[0;34m\u001b[0m\u001b[0m\n",
      "\u001b[0;32m/home/anson/anaconda2/lib/python2.7/site-packages/sklearn/ensemble/forest.pyc\u001b[0m in \u001b[0;36mfit\u001b[0;34m(self, X, y, sample_weight)\u001b[0m\n\u001b[1;32m    244\u001b[0m         \"\"\"\n\u001b[1;32m    245\u001b[0m         \u001b[0;31m# Validate or convert input data\u001b[0m\u001b[0;34m\u001b[0m\u001b[0;34m\u001b[0m\u001b[0m\n\u001b[0;32m--> 246\u001b[0;31m         \u001b[0mX\u001b[0m \u001b[0;34m=\u001b[0m \u001b[0mcheck_array\u001b[0m\u001b[0;34m(\u001b[0m\u001b[0mX\u001b[0m\u001b[0;34m,\u001b[0m \u001b[0maccept_sparse\u001b[0m\u001b[0;34m=\u001b[0m\u001b[0;34m\"csc\"\u001b[0m\u001b[0;34m,\u001b[0m \u001b[0mdtype\u001b[0m\u001b[0;34m=\u001b[0m\u001b[0mDTYPE\u001b[0m\u001b[0;34m)\u001b[0m\u001b[0;34m\u001b[0m\u001b[0m\n\u001b[0m\u001b[1;32m    247\u001b[0m         \u001b[0my\u001b[0m \u001b[0;34m=\u001b[0m \u001b[0mcheck_array\u001b[0m\u001b[0;34m(\u001b[0m\u001b[0my\u001b[0m\u001b[0;34m,\u001b[0m \u001b[0maccept_sparse\u001b[0m\u001b[0;34m=\u001b[0m\u001b[0;34m'csc'\u001b[0m\u001b[0;34m,\u001b[0m \u001b[0mensure_2d\u001b[0m\u001b[0;34m=\u001b[0m\u001b[0mFalse\u001b[0m\u001b[0;34m,\u001b[0m \u001b[0mdtype\u001b[0m\u001b[0;34m=\u001b[0m\u001b[0mNone\u001b[0m\u001b[0;34m)\u001b[0m\u001b[0;34m\u001b[0m\u001b[0m\n\u001b[1;32m    248\u001b[0m         \u001b[0;32mif\u001b[0m \u001b[0msample_weight\u001b[0m \u001b[0;32mis\u001b[0m \u001b[0;32mnot\u001b[0m \u001b[0mNone\u001b[0m\u001b[0;34m:\u001b[0m\u001b[0;34m\u001b[0m\u001b[0m\n",
      "\u001b[0;32m/home/anson/anaconda2/lib/python2.7/site-packages/sklearn/utils/validation.pyc\u001b[0m in \u001b[0;36mcheck_array\u001b[0;34m(array, accept_sparse, dtype, order, copy, force_all_finite, ensure_2d, allow_nd, ensure_min_samples, ensure_min_features, warn_on_dtype, estimator)\u001b[0m\n\u001b[1;32m    408\u001b[0m                     \u001b[0;34m\"Reshape your data either using array.reshape(-1, 1) if \"\u001b[0m\u001b[0;34m\u001b[0m\u001b[0m\n\u001b[1;32m    409\u001b[0m                     \u001b[0;34m\"your data has a single feature or array.reshape(1, -1) \"\u001b[0m\u001b[0;34m\u001b[0m\u001b[0m\n\u001b[0;32m--> 410\u001b[0;31m                     \"if it contains a single sample.\".format(array))\n\u001b[0m\u001b[1;32m    411\u001b[0m             \u001b[0marray\u001b[0m \u001b[0;34m=\u001b[0m \u001b[0mnp\u001b[0m\u001b[0;34m.\u001b[0m\u001b[0matleast_2d\u001b[0m\u001b[0;34m(\u001b[0m\u001b[0marray\u001b[0m\u001b[0;34m)\u001b[0m\u001b[0;34m\u001b[0m\u001b[0m\n\u001b[1;32m    412\u001b[0m             \u001b[0;31m# To ensure that array flags are maintained\u001b[0m\u001b[0;34m\u001b[0m\u001b[0;34m\u001b[0m\u001b[0m\n",
      "\u001b[0;31mValueError\u001b[0m: Expected 2D array, got 1D array instead:\narray=[].\nReshape your data either using array.reshape(-1, 1) if your data has a single feature or array.reshape(1, -1) if it contains a single sample."
     ]
    }
   ],
   "source": [
    "clf = ensemble.ExtraTreesClassifier(n_estimators=100, max_depth=5, n_jobs=-1)\n",
    "clf.fit(train_X_f, train_y)\n",
    "y_pred_CLF = clf.predict_proba(test_X_f)"
   ]
  },
  {
   "cell_type": "code",
   "execution_count": 38,
   "metadata": {
    "collapsed": false
   },
   "outputs": [
    {
     "ename": "NameError",
     "evalue": "name 'y_pred_CLF' is not defined",
     "output_type": "error",
     "traceback": [
      "\u001b[0;31m---------------------------------------------------------------------------\u001b[0m",
      "\u001b[0;31mNameError\u001b[0m                                 Traceback (most recent call last)",
      "\u001b[0;32m<ipython-input-38-21d50ae88191>\u001b[0m in \u001b[0;36m<module>\u001b[0;34m()\u001b[0m\n\u001b[1;32m      5\u001b[0m \u001b[0maverage_precision_CNN\u001b[0m \u001b[0;34m=\u001b[0m \u001b[0mmetrics\u001b[0m\u001b[0;34m.\u001b[0m\u001b[0maverage_precision_score\u001b[0m\u001b[0;34m(\u001b[0m\u001b[0mtest_y\u001b[0m\u001b[0;34m,\u001b[0m \u001b[0my_pred\u001b[0m\u001b[0;34m[\u001b[0m\u001b[0;34m:\u001b[0m\u001b[0;34m,\u001b[0m \u001b[0;36m1\u001b[0m\u001b[0;34m]\u001b[0m\u001b[0;34m)\u001b[0m\u001b[0;34m\u001b[0m\u001b[0m\n\u001b[1;32m      6\u001b[0m \u001b[0;34m\u001b[0m\u001b[0m\n\u001b[0;32m----> 7\u001b[0;31m \u001b[0mfalse_positive_rate_CLF\u001b[0m\u001b[0;34m,\u001b[0m \u001b[0mtrue_positive_rate_CLF\u001b[0m\u001b[0;34m,\u001b[0m \u001b[0mthresholds_CLF\u001b[0m \u001b[0;34m=\u001b[0m \u001b[0mmetrics\u001b[0m\u001b[0;34m.\u001b[0m\u001b[0mroc_curve\u001b[0m\u001b[0;34m(\u001b[0m\u001b[0mtest_y\u001b[0m\u001b[0;34m,\u001b[0m \u001b[0my_pred_CLF\u001b[0m\u001b[0;34m[\u001b[0m\u001b[0;34m:\u001b[0m\u001b[0;34m,\u001b[0m\u001b[0;36m1\u001b[0m\u001b[0;34m]\u001b[0m\u001b[0;34m)\u001b[0m\u001b[0;34m\u001b[0m\u001b[0m\n\u001b[0m\u001b[1;32m      8\u001b[0m \u001b[0mroc_auc_CLF\u001b[0m \u001b[0;34m=\u001b[0m \u001b[0mmetrics\u001b[0m\u001b[0;34m.\u001b[0m\u001b[0mauc\u001b[0m\u001b[0;34m(\u001b[0m\u001b[0mfalse_positive_rate_CLF\u001b[0m\u001b[0;34m,\u001b[0m \u001b[0mtrue_positive_rate_CLF\u001b[0m\u001b[0;34m)\u001b[0m\u001b[0;34m\u001b[0m\u001b[0m\n\u001b[1;32m      9\u001b[0m \u001b[0;34m\u001b[0m\u001b[0m\n",
      "\u001b[0;31mNameError\u001b[0m: name 'y_pred_CLF' is not defined"
     ]
    }
   ],
   "source": [
    "false_positive_rate_CNN, true_positive_rate_CNN, thresholds_CNN = metrics.roc_curve(test_y, y_pred[:,1])\n",
    "roc_auc_CNN = metrics.auc(false_positive_rate_CNN, true_positive_rate_CNN)\n",
    "\n",
    "precision_CNN, recall_CNN, thresholds_CNN = metrics.precision_recall_curve(test_y, y_pred[:,1])\n",
    "average_precision_CNN = metrics.average_precision_score(test_y, y_pred[:, 1])\n",
    "\n",
    "false_positive_rate_CLF, true_positive_rate_CLF, thresholds_CLF = metrics.roc_curve(test_y, y_pred_CLF[:,1])\n",
    "roc_auc_CLF = metrics.auc(false_positive_rate_CLF, true_positive_rate_CLF)\n",
    "\n",
    "precision_CLF, recall_CLF, thresholds_CLF = metrics.precision_recall_curve(test_y, y_pred_CLF[:,1])\n",
    "average_precision_CLF = metrics.average_precision_score(test_y, y_pred_CLF[:, 1])\n",
    "\n",
    "subplot(211)\n",
    "plt.title('ROC' )\n",
    "plt.plot(false_positive_rate_CNN, true_positive_rate_CNN, 'b', label='CNN: AUC=%.2f' % (roc_auc_CNN))\n",
    "plt.plot(false_positive_rate_CLF, true_positive_rate_CLF, 'k--', label='ERT: AUC=%.2f' % (roc_auc_CLF))\n",
    "plt.legend(loc='lower right')\n",
    "plt.ylim([-.05, 1.05])\n",
    "plt.xlim([-.05, 1.0])\n",
    "plt.ylabel('True Positive Rate')\n",
    "plt.xlabel('False Positive Rate')\n",
    "\n",
    "subplot(212)\n",
    "plt.plot(recall_CNN, precision_CNN, label='CNN: AP=%.2f' % (average_precision_CNN))\n",
    "plt.plot(recall_CLF, precision_CLF,'k--', label='ERT: AP=%.2f' % (average_precision_CLF))\n",
    "plt.xlabel('Recall')\n",
    "plt.ylabel('Precision')\n",
    "plt.ylim([0.0, 1.05])\n",
    "plt.xlim([0.0, 1.0])\n",
    "plt.title('Precision-Recall')\n",
    "plt.legend(loc=\"lower left\")\n",
    "\n",
    "plt.gcf().set_size_inches(4,10)\n",
    "\n",
    "plt.savefig('figs/plasmodium-phone-patchevaluation.png', bbox_inches='tight')"
   ]
  },
  {
   "cell_type": "code",
   "execution_count": 39,
   "metadata": {
    "collapsed": false
   },
   "outputs": [
    {
     "name": "stdout",
     "output_type": "stream",
     "text": [
      " \"false_positive_rate_CNN\": false_positive_rate_CNN,\n",
      "\"true_positive_rate_CNN\": true_positive_rate_CNN,\n",
      "\"false_positive_rate_CLF\": false_positive_rate_CLF,\n",
      "\"true_positive_rate_CLF\": true_positive_rate_CLF,\n",
      "\"roc_auc_CNN\": roc_auc_CNN,\n",
      "\"roc_auc_CLF\": roc_auc_CLF,\n",
      "\"recall_CNN\": recall_CNN,\n",
      "\"precision_CNN\": precision_CNN,\n",
      "\"average_precision_CNN\": average_precision_CNN,\n",
      "\"recall_CLF\": recall_CLF,\n",
      "\"precision_CLF\": precision_CLF,\n",
      "\"average_precision_CLF\": average_precision_CLF,\n"
     ]
    }
   ],
   "source": [
    "for v in ['false_positive_rate_CNN','true_positive_rate_CNN','false_positive_rate_CLF',\n",
    " 'true_positive_rate_CLF','roc_auc_CNN','roc_auc_CLF','recall_CNN','precision_CNN',\n",
    " 'average_precision_CNN','recall_CLF','precision_CLF','average_precision_CLF']:\n",
    "    print '\"%s\": %s,' % (v,v)"
   ]
  },
  {
   "cell_type": "code",
   "execution_count": 40,
   "metadata": {
    "collapsed": false
   },
   "outputs": [
    {
     "ename": "NameError",
     "evalue": "name 'false_positive_rate_CLF' is not defined",
     "output_type": "error",
     "traceback": [
      "\u001b[0;31m---------------------------------------------------------------------------\u001b[0m",
      "\u001b[0;31mNameError\u001b[0m                                 Traceback (most recent call last)",
      "\u001b[0;32m<ipython-input-40-ba6bf73ee946>\u001b[0m in \u001b[0;36m<module>\u001b[0;34m()\u001b[0m\n\u001b[1;32m      2\u001b[0m \u001b[0;34m\"false_positive_rate_CNN\"\u001b[0m\u001b[0;34m:\u001b[0m \u001b[0mfalse_positive_rate_CNN\u001b[0m\u001b[0;34m,\u001b[0m\u001b[0;34m\u001b[0m\u001b[0m\n\u001b[1;32m      3\u001b[0m \u001b[0;34m\"true_positive_rate_CNN\"\u001b[0m\u001b[0;34m:\u001b[0m \u001b[0mtrue_positive_rate_CNN\u001b[0m\u001b[0;34m,\u001b[0m\u001b[0;34m\u001b[0m\u001b[0m\n\u001b[0;32m----> 4\u001b[0;31m \u001b[0;34m\"false_positive_rate_CLF\"\u001b[0m\u001b[0;34m:\u001b[0m \u001b[0mfalse_positive_rate_CLF\u001b[0m\u001b[0;34m,\u001b[0m\u001b[0;34m\u001b[0m\u001b[0m\n\u001b[0m\u001b[1;32m      5\u001b[0m \u001b[0;34m\"true_positive_rate_CLF\"\u001b[0m\u001b[0;34m:\u001b[0m \u001b[0mtrue_positive_rate_CLF\u001b[0m\u001b[0;34m,\u001b[0m\u001b[0;34m\u001b[0m\u001b[0m\n\u001b[1;32m      6\u001b[0m \u001b[0;34m\"roc_auc_CNN\"\u001b[0m\u001b[0;34m:\u001b[0m \u001b[0mroc_auc_CNN\u001b[0m\u001b[0;34m,\u001b[0m\u001b[0;34m\u001b[0m\u001b[0m\n",
      "\u001b[0;31mNameError\u001b[0m: name 'false_positive_rate_CLF' is not defined"
     ]
    }
   ],
   "source": [
    "results = {\n",
    "\"false_positive_rate_CNN\": false_positive_rate_CNN,\n",
    "\"true_positive_rate_CNN\": true_positive_rate_CNN,\n",
    "\"false_positive_rate_CLF\": false_positive_rate_CLF,\n",
    "\"true_positive_rate_CLF\": true_positive_rate_CLF,\n",
    "\"roc_auc_CNN\": roc_auc_CNN,\n",
    "\"roc_auc_CLF\": roc_auc_CLF,\n",
    "\"recall_CNN\": recall_CNN,\n",
    "\"precision_CNN\": precision_CNN,\n",
    "\"average_precision_CNN\": average_precision_CNN,\n",
    "\"recall_CLF\": recall_CLF,\n",
    "\"precision_CLF\": precision_CLF,\n",
    "\"average_precision_CLF\": average_precision_CLF,\n",
    "\"opts\": opts\n",
    "}\n",
    "import pickle\n",
    "pickle.dump(results,open('plasmodium-phone-results.pkl','w'))"
   ]
  },
  {
   "cell_type": "code",
   "execution_count": null,
   "metadata": {
    "collapsed": true
   },
   "outputs": [],
   "source": []
  }
 ],
 "metadata": {
  "kernelspec": {
   "display_name": "Python 2",
   "language": "python",
   "name": "python2"
  },
  "language_info": {
   "codemirror_mode": {
    "name": "ipython",
    "version": 2
   },
   "file_extension": ".py",
   "mimetype": "text/x-python",
   "name": "python",
   "nbconvert_exporter": "python",
   "pygments_lexer": "ipython2",
   "version": "2.7.13"
  }
 },
 "nbformat": 4,
 "nbformat_minor": 0
}
